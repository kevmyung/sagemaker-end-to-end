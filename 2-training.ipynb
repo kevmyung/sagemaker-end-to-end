{
 "cells": [
  {
   "cell_type": "markdown",
   "id": "4ecce4ad-8973-41f1-9128-92263225b788",
   "metadata": {},
   "source": [
    "# [Lab2] SageMaker Training"
   ]
  },
  {
   "cell_type": "code",
   "execution_count": 1,
   "id": "c61aa426-39f5-4576-9e70-2a2c19693dac",
   "metadata": {},
   "outputs": [],
   "source": [
    "%store -r"
   ]
  },
  {
   "cell_type": "code",
   "execution_count": 2,
   "id": "a87cd0d7-6d66-4754-9d91-36b3fccd7a04",
   "metadata": {},
   "outputs": [
    {
     "name": "stdout",
     "output_type": "stream",
     "text": [
      "sagemaker.config INFO - Not applying SDK defaults from location: /etc/xdg/sagemaker/config.yaml\n",
      "sagemaker.config INFO - Not applying SDK defaults from location: /home/sagemaker-user/.config/sagemaker/config.yaml\n"
     ]
    }
   ],
   "source": [
    "import sagemaker\n",
    "import boto3\n",
    "from time import gmtime, strftime\n",
    "\n",
    "boto_session = boto3.Session()\n",
    "sess = sagemaker.Session()"
   ]
  },
  {
   "cell_type": "markdown",
   "id": "25a47dc5-fbf6-4eff-b7fc-dba0dfb6ca65",
   "metadata": {},
   "source": [
    "## 1. Preparing for Training Job (Built-in algorithm)"
   ]
  },
  {
   "cell_type": "markdown",
   "id": "57a7b80e-9cfc-4dfd-ad7c-84ddc454f4a6",
   "metadata": {},
   "source": [
    "### Training Input"
   ]
  },
  {
   "cell_type": "code",
   "execution_count": 3,
   "id": "3f30267e-688d-40f9-9690-69569dca9051",
   "metadata": {},
   "outputs": [],
   "source": [
    "container = sagemaker.image_uris.retrieve(region=boto3.Session().region_name, framework='xgboost', version='1.7-1')"
   ]
  },
  {
   "cell_type": "code",
   "execution_count": 4,
   "id": "5ea0364f-e50e-4568-8ee7-69981acf753d",
   "metadata": {},
   "outputs": [],
   "source": [
    "s3_input_train = sagemaker.inputs.TrainingInput(s3_data=train_path.format(bucket, prefix), content_type='csv')\n",
    "s3_input_validation = sagemaker.inputs.TrainingInput(s3_data=validation_path.format(bucket, prefix), content_type='csv')\n",
    "\n",
    "training_inputs = {'train': s3_input_train, 'validation': s3_input_validation}"
   ]
  },
  {
   "cell_type": "markdown",
   "id": "3bdad486-f85a-459a-a7ec-edf1b858dda6",
   "metadata": {},
   "source": [
    "## 2. Training Job Definition - Built-in Algorithm"
   ]
  },
  {
   "cell_type": "code",
   "execution_count": 5,
   "id": "31d5a1a0-10dd-477c-a741-cbb5b17ab4cb",
   "metadata": {},
   "outputs": [],
   "source": [
    "xgb1 = sagemaker.estimator.Estimator(image_uri=container,\n",
    "                                    role=role, \n",
    "                                    instance_count=1, \n",
    "                                    instance_type='ml.m5.large',\n",
    "                                    output_path='s3://{}/{}/output/'.format(bucket, prefix),\n",
    "                                    base_job_name='training-job',\n",
    "                                    sagemaker_session=sess)\n",
    "\n",
    "xgb1.set_hyperparameters(max_depth=3,\n",
    "                        eta=0.5,\n",
    "                        gamma=4,\n",
    "                        eval_metric=\"auc\",\n",
    "                        min_child_weight=6,\n",
    "                        subsample=0.8,\n",
    "                        verbosity=0,\n",
    "                        objective='binary:logistic',\n",
    "                        num_round=50)\n",
    "\n",
    "xgb2 = sagemaker.estimator.Estimator(image_uri=container,\n",
    "                                    role=role, \n",
    "                                    instance_count=1, \n",
    "                                    instance_type='ml.m5.large',\n",
    "                                    output_path='s3://{}/{}/output/'.format(bucket, prefix),\n",
    "                                    base_job_name='training-job',\n",
    "                                    sagemaker_session=sess)\n",
    "\n",
    "xgb2.set_hyperparameters(max_depth=3,\n",
    "                        eta=0.1,\n",
    "                        gamma=2,\n",
    "                        eval_metric=\"auc\",\n",
    "                        min_child_weight=3,\n",
    "                        subsample=0.4,\n",
    "                        verbosity=0,\n",
    "                        objective='binary:logistic',\n",
    "                        num_round=100)"
   ]
  },
  {
   "cell_type": "markdown",
   "id": "38ad805a-7dca-452f-8c81-a1bfa252e9f7",
   "metadata": {},
   "source": [
    "## 3. Logging"
   ]
  },
  {
   "cell_type": "markdown",
   "id": "e38c38dd-0a7d-4cec-abc1-c3b22e8dccae",
   "metadata": {},
   "source": [
    "### MLFlow Setup"
   ]
  },
  {
   "cell_type": "code",
   "execution_count": 6,
   "id": "ab546085-a67f-43e8-930f-7d08cad2748e",
   "metadata": {},
   "outputs": [
    {
     "data": {
      "text/plain": [
       "<Experiment: artifact_location='s3://sagemaker-ap-northeast-2-185567426878/mlflow/21-06-07-33/2', creation_time=1729494869387, experiment_id='2', last_update_time=1729494869387, lifecycle_stage='active', name='end-to-end-experiment-21-07-13-50', tags={}>"
      ]
     },
     "execution_count": 6,
     "metadata": {},
     "output_type": "execute_result"
    }
   ],
   "source": [
    "import mlflow\n",
    "\n",
    "mlflow.set_tracking_uri(mlflow_arn)\n",
    "mlflow.set_experiment(experiment_name=experiment_name)"
   ]
  },
  {
   "cell_type": "markdown",
   "id": "dce85885-e687-4ead-bd9f-3db29805390d",
   "metadata": {},
   "source": [
    "### Training Job"
   ]
  },
  {
   "cell_type": "code",
   "execution_count": 7,
   "id": "cbeddeef-848a-4477-9f15-f0f9dc32f30d",
   "metadata": {},
   "outputs": [
    {
     "name": "stderr",
     "output_type": "stream",
     "text": [
      "INFO:sagemaker:Creating training-job with name: training-job-2024-10-21-13-30-18-998\n"
     ]
    }
   ],
   "source": [
    "xgb1.fit(training_inputs,wait=False,logs=False) "
   ]
  },
  {
   "cell_type": "code",
   "execution_count": 8,
   "id": "89cfadbe-04d9-4137-8a06-6eddd6f73990",
   "metadata": {},
   "outputs": [
    {
     "name": "stderr",
     "output_type": "stream",
     "text": [
      "INFO:sagemaker:Creating training-job with name: training-job-2024-10-21-13-30-42-668\n"
     ]
    }
   ],
   "source": [
    "xgb2.fit(training_inputs,wait=True,logs=False) "
   ]
  },
  {
   "cell_type": "markdown",
   "id": "bfaea3e7-2960-4c06-bad5-d07ba87c9fa9",
   "metadata": {},
   "source": [
    "## Training in progress. Please stand by."
   ]
  },
  {
   "cell_type": "markdown",
   "id": "9ebc991e-3499-4ea2-a054-2a59d5667619",
   "metadata": {},
   "source": [
    "### Storing Parameters / Logs / Models"
   ]
  },
  {
   "cell_type": "code",
   "execution_count": 9,
   "id": "c29702e7-d53e-441a-98d2-caee5daa509d",
   "metadata": {},
   "outputs": [],
   "source": [
    "def load_model(model_data_s3_uri):\n",
    "    import xgboost as xgb\n",
    "    import tarfile\n",
    "    import pickle as pkl\n",
    "\n",
    "    model_file = \"./xgboost-model.tar.gz\"\n",
    "    bucket, key = model_data_s3_uri.replace(\"s3://\", \"\").split(\"/\", 1)\n",
    "    boto3.client(\"s3\").download_file(bucket, key, model_file)\n",
    "    \n",
    "    with tarfile.open(model_file, \"r:gz\") as t:\n",
    "        t.extractall(path=\".\")\n",
    "    \n",
    "    # Load model\n",
    "    model = xgb.Booster()\n",
    "    model.load_model(\"xgboost-model\")\n",
    "\n",
    "    return model\n",
    "    \n",
    "def run_logging(xgb_estimator, run_name):\n",
    "    with mlflow.start_run(run_name=run_name):\n",
    "        mlflow.log_params(xgb_estimator.hyperparameters())\n",
    "        mlflow.set_tags(\n",
    "            {\n",
    "                'mlflow.user': user_profile_name,\n",
    "                'mlflow.source.name': f'https://{region}.console.aws.amazon.com/sagemaker/home?region={region}#/jobs/{xgb_estimator.latest_training_job.name}',\n",
    "                'mlflow.source.type': 'JOB'\n",
    "            }\n",
    "        )\n",
    "        mlflow.log_param(\"training job name\", xgb_estimator.latest_training_job.name)\n",
    "        mlflow.log_param(\"model_origin\", xgb_estimator.model_data)\n",
    "\n",
    "        metrics = xgb_estimator.training_job_analytics.dataframe('auc')\n",
    "        logged_metrics = {}\n",
    "        for _, row in metrics.iterrows():\n",
    "            if row['metric_name'] in ['train:auc', 'validation:auc']:\n",
    "                logged_metrics[row['metric_name'].replace(':', '_')] = row['value']\n",
    "        mlflow.log_metrics(logged_metrics)\n",
    "        \n",
    "        model = load_model(xgb_estimator.model_data)\n",
    "        mlflow.xgboost.log_model(model, artifact_path=\"model\")"
   ]
  },
  {
   "cell_type": "code",
   "execution_count": 10,
   "id": "41b962bb-d4fe-4bbd-a7d2-55bfe45fd7b3",
   "metadata": {},
   "outputs": [],
   "source": [
    "test_name_1 = \"hyperparam1\"\n",
    "run_name_1 = f\"{test_name_1}-training-{strftime('%d-%H-%M-%S', gmtime())}\"\n",
    "\n",
    "test_name_2 = \"hyperparam2\"\n",
    "run_name_2 = f\"{test_name_2}-training-{strftime('%d-%H-%M-%S', gmtime())}\""
   ]
  },
  {
   "cell_type": "code",
   "execution_count": 11,
   "id": "eaadf53d-95f4-45ff-8473-90a1d95de782",
   "metadata": {},
   "outputs": [
    {
     "name": "stderr",
     "output_type": "stream",
     "text": [
      "WARNING:sagemaker.analytics:Warning: No metrics called train:mae found\n",
      "WARNING:sagemaker.analytics:Warning: No metrics called validation:aucpr found\n",
      "WARNING:sagemaker.analytics:Warning: No metrics called validation:f1_binary found\n",
      "WARNING:sagemaker.analytics:Warning: No metrics called validation:mae found\n",
      "WARNING:sagemaker.analytics:Warning: No metrics called validation:logloss found\n",
      "WARNING:sagemaker.analytics:Warning: No metrics called validation:f1 found\n",
      "WARNING:sagemaker.analytics:Warning: No metrics called train:accuracy found\n",
      "WARNING:sagemaker.analytics:Warning: No metrics called train:mse found\n",
      "WARNING:sagemaker.analytics:Warning: No metrics called validation:recall found\n",
      "WARNING:sagemaker.analytics:Warning: No metrics called validation:poisson-nloglik found\n",
      "WARNING:sagemaker.analytics:Warning: No metrics called validation:precision found\n",
      "WARNING:sagemaker.analytics:Warning: No metrics called train:error found\n",
      "WARNING:sagemaker.analytics:Warning: No metrics called train:ndcg found\n",
      "WARNING:sagemaker.analytics:Warning: No metrics called validation:map found\n",
      "WARNING:sagemaker.analytics:Warning: No metrics called train:f1_binary found\n",
      "WARNING:sagemaker.analytics:Warning: No metrics called validation:error found\n",
      "WARNING:sagemaker.analytics:Warning: No metrics called train:poisson-nloglik found\n",
      "WARNING:sagemaker.analytics:Warning: No metrics called train:rmse found\n",
      "WARNING:sagemaker.analytics:Warning: No metrics called train:logloss found\n",
      "WARNING:sagemaker.analytics:Warning: No metrics called validation:accuracy found\n",
      "WARNING:sagemaker.analytics:Warning: No metrics called train:aucpr found\n",
      "WARNING:sagemaker.analytics:Warning: No metrics called validation:balanced_accuracy found\n",
      "WARNING:sagemaker.analytics:Warning: No metrics called validation:rmse found\n",
      "WARNING:sagemaker.analytics:Warning: No metrics called validation:mse found\n",
      "WARNING:sagemaker.analytics:Warning: No metrics called validation:ndcg found\n",
      "WARNING:sagemaker.analytics:Warning: No metrics called train:f1 found\n",
      "WARNING:sagemaker.analytics:Warning: No metrics called train:map found\n",
      "/opt/conda/lib/python3.11/site-packages/xgboost/core.py:160: UserWarning: [13:37:52] WARNING: /home/conda/feedstock_root/build_artifacts/xgboost-split_1713397725960/work/src/c_api/c_api.cc:1240: Saving into deprecated binary model format, please consider using `json` or `ubj`. Model format will default to JSON in XGBoost 2.2 if not specified.\n",
      "  warnings.warn(smsg, UserWarning)\n",
      "/opt/conda/lib/python3.11/site-packages/_distutils_hack/__init__.py:32: UserWarning: Setuptools is replacing distutils. Support for replacing an already imported distutils is deprecated. In the future, this condition will fail. Register concerns at https://github.com/pypa/setuptools/issues/new?template=distutils-deprecation.yml\n",
      "  warnings.warn(\n",
      "WARNING:sagemaker.analytics:Warning: No metrics called train:mae found\n",
      "WARNING:sagemaker.analytics:Warning: No metrics called validation:aucpr found\n",
      "WARNING:sagemaker.analytics:Warning: No metrics called validation:f1_binary found\n",
      "WARNING:sagemaker.analytics:Warning: No metrics called validation:mae found\n",
      "WARNING:sagemaker.analytics:Warning: No metrics called validation:logloss found\n",
      "WARNING:sagemaker.analytics:Warning: No metrics called validation:f1 found\n",
      "WARNING:sagemaker.analytics:Warning: No metrics called train:accuracy found\n",
      "WARNING:sagemaker.analytics:Warning: No metrics called train:mse found\n",
      "WARNING:sagemaker.analytics:Warning: No metrics called validation:recall found\n",
      "WARNING:sagemaker.analytics:Warning: No metrics called validation:poisson-nloglik found\n",
      "WARNING:sagemaker.analytics:Warning: No metrics called validation:precision found\n",
      "WARNING:sagemaker.analytics:Warning: No metrics called train:error found\n",
      "WARNING:sagemaker.analytics:Warning: No metrics called train:ndcg found\n",
      "WARNING:sagemaker.analytics:Warning: No metrics called validation:map found\n",
      "WARNING:sagemaker.analytics:Warning: No metrics called train:f1_binary found\n",
      "WARNING:sagemaker.analytics:Warning: No metrics called validation:error found\n",
      "WARNING:sagemaker.analytics:Warning: No metrics called train:poisson-nloglik found\n",
      "WARNING:sagemaker.analytics:Warning: No metrics called train:rmse found\n",
      "WARNING:sagemaker.analytics:Warning: No metrics called train:logloss found\n",
      "WARNING:sagemaker.analytics:Warning: No metrics called validation:accuracy found\n",
      "WARNING:sagemaker.analytics:Warning: No metrics called train:aucpr found\n",
      "WARNING:sagemaker.analytics:Warning: No metrics called validation:balanced_accuracy found\n",
      "WARNING:sagemaker.analytics:Warning: No metrics called validation:rmse found\n",
      "WARNING:sagemaker.analytics:Warning: No metrics called validation:mse found\n",
      "WARNING:sagemaker.analytics:Warning: No metrics called validation:ndcg found\n",
      "WARNING:sagemaker.analytics:Warning: No metrics called train:f1 found\n",
      "WARNING:sagemaker.analytics:Warning: No metrics called train:map found\n",
      "/opt/conda/lib/python3.11/site-packages/xgboost/core.py:160: UserWarning: [13:37:58] WARNING: /home/conda/feedstock_root/build_artifacts/xgboost-split_1713397725960/work/src/c_api/c_api.cc:1240: Saving into deprecated binary model format, please consider using `json` or `ubj`. Model format will default to JSON in XGBoost 2.2 if not specified.\n",
      "  warnings.warn(smsg, UserWarning)\n"
     ]
    }
   ],
   "source": [
    "run_logging(xgb1, run_name_1)\n",
    "run_logging(xgb2, run_name_2)"
   ]
  },
  {
   "cell_type": "code",
   "execution_count": 12,
   "id": "aa8073b4-6db2-461d-a6e7-736f0e43d902",
   "metadata": {},
   "outputs": [
    {
     "name": "stdout",
     "output_type": "stream",
     "text": [
      "Stored 'run_name_1' (str)\n",
      "Stored 'run_name_2' (str)\n"
     ]
    }
   ],
   "source": [
    "%store run_name_1\n",
    "%store run_name_2"
   ]
  },
  {
   "cell_type": "markdown",
   "id": "457a2b00-b74d-4fd6-898c-aa6520bcb461",
   "metadata": {},
   "source": [
    "## 4. Checking the training results"
   ]
  },
  {
   "cell_type": "code",
   "execution_count": 13,
   "id": "4a9d5835-67f7-467c-be88-1e1542441d88",
   "metadata": {},
   "outputs": [],
   "source": [
    "last_run_id = mlflow.search_runs(\n",
    "    experiment_ids=[mlflow.get_experiment_by_name(experiment_name).experiment_id], \n",
    "    max_results=1, \n",
    "    order_by=[\"attributes.start_time DESC\"]\n",
    ")['run_id'][0]\n",
    "\n",
    "presigned_url = sess.sagemaker_client.create_presigned_mlflow_tracking_server_url(\n",
    "    TrackingServerName=mlflow_name,\n",
    "    ExpiresInSeconds=60,\n",
    "    SessionExpirationDurationInSeconds=1800\n",
    ")['AuthorizedUrl']\n",
    "\n",
    "mlflow_run_link = f\"{presigned_url.split('/auth')[0]}/#/experiments/1/runs/{last_run_id}\""
   ]
  },
  {
   "cell_type": "code",
   "execution_count": 15,
   "id": "b707c1c6-0d4f-421b-9705-7aa0d487fa34",
   "metadata": {},
   "outputs": [
    {
     "data": {
      "application/javascript": [
       "window.open(\"https://t-1slwpmxe6ptj.ap-northeast-2.experiments.sagemaker.aws/#/experiments/1/runs/06b26a107bfc47dab01464b61dab2333\");"
      ],
      "text/plain": [
       "<IPython.core.display.Javascript object>"
      ]
     },
     "metadata": {},
     "output_type": "display_data"
    }
   ],
   "source": [
    "from IPython.display import Javascript\n",
    "\n",
    "display(Javascript('window.open(\"{}\");'.format(mlflow_run_link)))"
   ]
  },
  {
   "cell_type": "markdown",
   "id": "ba6a245a-228a-4277-b3c8-3f6c5214a822",
   "metadata": {},
   "source": [
    "## 5. Register the models in MLFlow"
   ]
  },
  {
   "cell_type": "code",
   "execution_count": 16,
   "id": "a2b4ad47-22c4-4936-bda0-f3b9eff5ec6d",
   "metadata": {},
   "outputs": [],
   "source": [
    "registered_model_name = f\"model-{experiment_name}\""
   ]
  },
  {
   "cell_type": "code",
   "execution_count": 17,
   "id": "23fce149-92da-4df2-8c18-1e982df3ccd9",
   "metadata": {},
   "outputs": [
    {
     "name": "stderr",
     "output_type": "stream",
     "text": [
      "Registered model 'model-end-to-end-experiment-21-07-13-50' already exists. Creating a new version of this model...\n",
      "2024/10/21 13:40:25 INFO mlflow.store.model_registry.abstract_store: Waiting up to 300 seconds for model version to finish creation. Model name: model-end-to-end-experiment-21-07-13-50, version 3\n",
      "Created version '3' of model 'model-end-to-end-experiment-21-07-13-50'.\n"
     ]
    }
   ],
   "source": [
    "run_id_1 = mlflow.search_runs(\n",
    "    experiment_ids=[mlflow.get_experiment_by_name(experiment_name).experiment_id], \n",
    "    max_results=2, \n",
    "    order_by=[\"attributes.start_time DESC\"]\n",
    ")['run_id'][1]\n",
    "\n",
    "model_uri = f\"runs:/{run_id_1}/model\"\n",
    "\n",
    "registered_model_version_1 = mlflow.register_model(model_uri, registered_model_name)"
   ]
  },
  {
   "cell_type": "code",
   "execution_count": 18,
   "id": "580bbac4-c46d-497a-87a8-7ff9c6c820e8",
   "metadata": {},
   "outputs": [
    {
     "name": "stderr",
     "output_type": "stream",
     "text": [
      "Registered model 'model-end-to-end-experiment-21-07-13-50' already exists. Creating a new version of this model...\n",
      "2024/10/21 13:40:27 INFO mlflow.store.model_registry.abstract_store: Waiting up to 300 seconds for model version to finish creation. Model name: model-end-to-end-experiment-21-07-13-50, version 4\n",
      "Created version '4' of model 'model-end-to-end-experiment-21-07-13-50'.\n"
     ]
    }
   ],
   "source": [
    "run_id_2 = mlflow.search_runs(\n",
    "    experiment_ids=[mlflow.get_experiment_by_name(experiment_name).experiment_id], \n",
    "    max_results=2, \n",
    "    order_by=[\"attributes.start_time DESC\"]\n",
    ")['run_id'][0]\n",
    "\n",
    "model_uri = f\"runs:/{run_id_2}/model\"\n",
    "\n",
    "registered_model_version_2 = mlflow.register_model(model_uri, registered_model_name)"
   ]
  },
  {
   "cell_type": "code",
   "execution_count": 19,
   "id": "b2e20a23-a207-48ba-940c-00c2f0687441",
   "metadata": {},
   "outputs": [
    {
     "name": "stdout",
     "output_type": "stream",
     "text": [
      "Stored 'run_id_1' (str)\n",
      "Stored 'run_id_2' (str)\n",
      "Stored 'registered_model_version_1' (ModelVersion)\n",
      "Stored 'registered_model_version_2' (ModelVersion)\n"
     ]
    }
   ],
   "source": [
    "%store run_id_1\n",
    "%store run_id_2\n",
    "%store registered_model_version_1\n",
    "%store registered_model_version_2"
   ]
  },
  {
   "cell_type": "code",
   "execution_count": 20,
   "id": "4c984dce-a948-4679-9551-66bdbfeef2f8",
   "metadata": {},
   "outputs": [],
   "source": [
    "mlflow.end_run()"
   ]
  },
  {
   "cell_type": "markdown",
   "id": "c162a636-de61-412f-af5c-bbeba052723e",
   "metadata": {},
   "source": [
    "## [Optional] 6. Training Job - Script Mode "
   ]
  },
  {
   "cell_type": "markdown",
   "id": "7fad6a8f-bba0-4131-a550-b923e86bf8da",
   "metadata": {},
   "source": [
    "### Dependencies"
   ]
  },
  {
   "cell_type": "code",
   "execution_count": 21,
   "id": "e028cfc9-fc92-4904-bc04-f23dac31481c",
   "metadata": {},
   "outputs": [],
   "source": [
    "%mkdir -p './training'"
   ]
  },
  {
   "cell_type": "code",
   "execution_count": 22,
   "id": "f451bfd3-53d2-4d46-8deb-8d76ccee71b0",
   "metadata": {},
   "outputs": [
    {
     "name": "stdout",
     "output_type": "stream",
     "text": [
      "Writing ./training/requirements.txt\n"
     ]
    }
   ],
   "source": [
    "%%writefile './training/requirements.txt'\n",
    "mlflow==2.13.2\n",
    "sagemaker-mlflow==0.1.0"
   ]
  },
  {
   "cell_type": "markdown",
   "id": "263c07c1-efdc-4b9b-a337-485ef46bc44c",
   "metadata": {},
   "source": [
    "### Training Script"
   ]
  },
  {
   "cell_type": "code",
   "execution_count": 23,
   "id": "c3c25c20-b4de-4e02-a81c-a0f2ba4cc507",
   "metadata": {},
   "outputs": [
    {
     "name": "stdout",
     "output_type": "stream",
     "text": [
      "Overwriting ./training/train.py\n"
     ]
    }
   ],
   "source": [
    "%%writefile ./training/train.py\n",
    "\n",
    "import argparse\n",
    "import json\n",
    "import logging\n",
    "import os\n",
    "import pandas as pd\n",
    "import pickle as pkl\n",
    "\n",
    "from sagemaker_containers import entry_point\n",
    "from sagemaker_xgboost_container.data_utils import get_dmatrix\n",
    "from sagemaker_xgboost_container import distributed\n",
    "\n",
    "from sklearn.metrics import roc_auc_score\n",
    "\n",
    "import xgboost as xgb\n",
    "import mlflow\n",
    "\n",
    "from time import gmtime, strftime\n",
    "\n",
    "suffix = strftime('%d-%H-%M-%S', gmtime())\n",
    "\n",
    "user_profile_name = os.getenv('USER', 'sagemaker')\n",
    "experiment_name = os.getenv('MLFLOW_EXPERIMENT_NAME')\n",
    "region = os.getenv('REGION')\n",
    "\n",
    "mlflow.set_tracking_uri(os.getenv('MLFLOW_TRACKING_ARN'))\n",
    "mlflow.set_experiment(experiment_name=experiment_name if experiment_name else f\"train-{suffix}\")\n",
    "\n",
    "def _xgb_train(params, dtrain, dval, evals, num_boost_round, model_dir, is_master):\n",
    "    \"\"\"Run xgb train on arguments given with rabit initialized.\n",
    "\n",
    "    This is our rabit execution function.\n",
    "\n",
    "    :param args_dict: Argument dictionary used to run xgb.train().\n",
    "    :param is_master: True if current node is master host in distributed training,\n",
    "                        or is running single node training job.\n",
    "                        Note that rabit_run includes this argument.\n",
    "    \"\"\"\n",
    "    booster = xgb.train(\n",
    "        params=params,\n",
    "        dtrain=dtrain,\n",
    "        evals=evals,\n",
    "        num_boost_round=num_boost_round\n",
    "    )\n",
    "\n",
    "    val_auc = roc_auc_score(dval.get_label(), booster.predict(dval))\n",
    "    train_auc = roc_auc_score(dtrain.get_label(), booster.predict(dtrain))\n",
    "    mlflow.log_params(params)\n",
    "    mlflow.log_metrics({\"validation_auc\":val_auc, \"train_auc\":train_auc})\n",
    "    # emit training metrics - SageMaker collects them from the log stream\n",
    "    print(f\"[0]#011train-auc:{train_auc}#011validation-auc:{val_auc}\")\n",
    "    \n",
    "    if is_master:\n",
    "        model_location = model_dir + '/xgboost-model'\n",
    "        pkl.dump(booster, open(model_location, 'wb'))\n",
    "        print(\"Stored trained model at {}\".format(model_location))\n",
    "\n",
    "\n",
    "if __name__ == '__main__':\n",
    "    parser = argparse.ArgumentParser()\n",
    "    \n",
    "    # Hyperparameters are described here.\n",
    "    parser.add_argument('--max_depth', type=int)\n",
    "    parser.add_argument('--eta', type=float)\n",
    "    parser.add_argument('--alpha', type=float)\n",
    "    parser.add_argument('--gamma', type=int)\n",
    "    parser.add_argument('--min_child_weight', type=float)\n",
    "    parser.add_argument('--subsample', type=float)\n",
    "    parser.add_argument('--colsample_bytree', type=float)\n",
    "    parser.add_argument('--verbosity', type=int)\n",
    "    parser.add_argument('--objective', type=str)\n",
    "    parser.add_argument('--num_round', type=int)\n",
    "    parser.add_argument('--early_stopping_rounds', type=int)\n",
    "    parser.add_argument('--tree_method', type=str, default=\"auto\")\n",
    "    parser.add_argument('--predictor', type=str, default=\"auto\")\n",
    "\n",
    "    # Sagemaker specific arguments. Defaults are set in the environment variables.\n",
    "    parser.add_argument('--output_data_dir', type=str, default=os.environ.get('SM_OUTPUT_DATA_DIR'))\n",
    "    parser.add_argument('--model_dir', type=str, default=os.environ.get('SM_MODEL_DIR'))\n",
    "    parser.add_argument('--train', type=str, default=os.environ.get('SM_CHANNEL_TRAIN'))\n",
    "    parser.add_argument('--validation', type=str, default=os.environ.get('SM_CHANNEL_VALIDATION'))\n",
    "    parser.add_argument('--sm_hosts', type=str, default=os.environ.get('SM_HOSTS'))\n",
    "    parser.add_argument('--sm_current_host', type=str, default=os.environ.get('SM_CURRENT_HOST'))\n",
    "    parser.add_argument('--sm_training_env', type=str, default=os.environ.get('SM_TRAINING_ENV'))\n",
    "    \n",
    "    print(\"main function\")\n",
    "    args, _ = parser.parse_known_args()\n",
    "\n",
    "    # Get SageMaker host information from runtime environment variables\n",
    "    sm_hosts = json.loads(args.sm_hosts)\n",
    "    sm_current_host = args.sm_current_host\n",
    "    dtrain = get_dmatrix(args.train, 'CSV')\n",
    "    dval = get_dmatrix(args.validation, 'CSV')\n",
    "\n",
    "    watchlist = [(dtrain, 'train'), (dval, 'validation')] if dval is not None else [(dtrain, 'train')]\n",
    "\n",
    "    # get SageMaker enviroment setup\n",
    "    sm_training_env = json.loads(args.sm_training_env)\n",
    "    \n",
    "    # enable auto logging\n",
    "    mlflow.xgboost.autolog(log_model_signatures=False, log_datasets=False)\n",
    "\n",
    "    train_hp = {\n",
    "        'max_depth': args.max_depth,\n",
    "        'eta': args.eta,\n",
    "        'gamma': args.gamma,\n",
    "        'min_child_weight': args.min_child_weight,\n",
    "        'subsample': args.subsample,\n",
    "        'verbosity': args.verbosity,\n",
    "        'objective': args.objective,\n",
    "        'tree_method': args.tree_method,\n",
    "        'predictor': args.predictor,\n",
    "    }\n",
    "\n",
    "    xgb_train_args = dict(\n",
    "        params=train_hp,\n",
    "        dtrain=dtrain,\n",
    "        dval=dval,\n",
    "        evals=watchlist,\n",
    "        num_boost_round=args.num_round,\n",
    "        model_dir=args.model_dir)\n",
    "\n",
    "    with mlflow.start_run(\n",
    "        run_name=f\"container-training-{suffix}\",\n",
    "        description=\"xgboost running in SageMaker container in script mode\"\n",
    "    ) as run:\n",
    "\n",
    "        mlflow.set_tags(\n",
    "            {\n",
    "                'mlflow.user':user_profile_name,\n",
    "                'mlflow.source.type':'JOB',\n",
    "                'mlflow.source.name': f\"https://{region}.console.aws.amazon.com/sagemaker/home?region={region}#/jobs/{sm_training_env['job_name']}\" if sm_training_env['current_host'] != 'sagemaker-local' else sm_training_env['current_host']\n",
    "            }\n",
    "        )\n",
    "    \n",
    "        if len(sm_hosts) > 1:\n",
    "            # Wait until all hosts are able to find each other\n",
    "            entry_point._wait_hostname_resolution()\n",
    "    \n",
    "            # Execute training function after initializing rabit.\n",
    "            distributed.rabit_run(\n",
    "                exec_fun=_xgb_train,\n",
    "                args=xgb_train_args,\n",
    "                include_in_training=(dtrain is not None),\n",
    "                hosts=sm_hosts,\n",
    "                current_host=sm_current_host,\n",
    "                update_rabit_args=True\n",
    "            )\n",
    "        else:\n",
    "            # If single node training, call training method directly.\n",
    "            if dtrain:\n",
    "                xgb_train_args['is_master'] = True\n",
    "                _xgb_train(**xgb_train_args)\n",
    "            else:\n",
    "                raise ValueError(\"Training channel must have data to train model.\")\n",
    "\n",
    "# Return model object\n",
    "def model_fn(model_dir):\n",
    "    \"\"\"Deserialize and return fitted model.\n",
    "\n",
    "    Note that this should have the same name as the serialized model in the _xgb_train method\n",
    "    \"\"\"\n",
    "    model_file = 'xgboost-model'\n",
    "    booster = pkl.load(open(os.path.join(model_dir, model_file), 'rb'))\n",
    "    return booster"
   ]
  },
  {
   "cell_type": "code",
   "execution_count": 25,
   "id": "3bb47989-4970-4d77-9fa3-5c216747c37b",
   "metadata": {},
   "outputs": [],
   "source": [
    "hyperparams = {\n",
    "    'num_round': 50,\n",
    "    'max_depth': 3,\n",
    "    'eta': 0.5,\n",
    "    'alpha': 2.5,\n",
    "    'objective': 'binary:logistic',\n",
    "    'eval_metric': 'auc',\n",
    "    'subsample': 0.8,\n",
    "    'colsample_bytree': 0.8,\n",
    "    'min_child_weight': 3,\n",
    "    'early_stopping_rounds': 10,\n",
    "    'verbosity': 1\n",
    "}\n",
    "\n",
    "env_variables = {\n",
    "    'MLFLOW_TRACKING_ARN': mlflow_arn,\n",
    "    'MLFLOW_EXPERIMENT_NAME': experiment_name,\n",
    "    'USER': user_profile_name,\n",
    "    'REGION': region,\n",
    "}\n"
   ]
  },
  {
   "cell_type": "code",
   "execution_count": 26,
   "id": "57874d65-4fa1-42ac-a720-562c62ce304d",
   "metadata": {},
   "outputs": [
    {
     "name": "stderr",
     "output_type": "stream",
     "text": [
      "INFO:sagemaker.image_uris:Ignoring unnecessary Python version: py3.\n",
      "INFO:sagemaker.image_uris:Ignoring unnecessary instance type: ml.m5.large.\n"
     ]
    }
   ],
   "source": [
    "from sagemaker.xgboost.estimator import XGBoost\n",
    "\n",
    "xgb_script_mode = XGBoost(\n",
    "    entry_point='train.py',\n",
    "    source_dir='./training',\n",
    "    framework_version=\"1.7-1\",  \n",
    "    hyperparameters=hyperparams,\n",
    "    role=role,\n",
    "    instance_count=1, \n",
    "    instance_type='ml.m5.large',\n",
    "    output_path='s3://{}/{}/output/'.format(bucket, prefix),\n",
    "    base_job_name=\"script-training-job\",\n",
    "    environment=env_variables,\n",
    ")"
   ]
  },
  {
   "cell_type": "code",
   "execution_count": 27,
   "id": "0f93110c-ca1f-4826-ac4d-09a2ae67783d",
   "metadata": {},
   "outputs": [
    {
     "name": "stderr",
     "output_type": "stream",
     "text": [
      "INFO:sagemaker:Creating training-job with name: script-training-job-2024-10-21-13-48-32-829\n"
     ]
    },
    {
     "name": "stdout",
     "output_type": "stream",
     "text": [
      "\n",
      "2024-10-21 13:48:34 Starting - Starting the training job..\n",
      "2024-10-21 13:48:49 Starting - Preparing the instances for training....\n",
      "2024-10-21 13:49:17 Downloading - Downloading input data.......\n",
      "2024-10-21 13:49:57 Downloading - Downloading the training image............\n",
      "2024-10-21 13:51:03 Training - Training image download completed. Training in progress......\n",
      "2024-10-21 13:51:33 Uploading - Uploading generated training model..\n",
      "2024-10-21 13:51:47 Completed - Training job completed\n"
     ]
    }
   ],
   "source": [
    "xgb_script_mode.fit(training_inputs,wait=True,logs=False) "
   ]
  },
  {
   "cell_type": "code",
   "execution_count": 28,
   "id": "e7795bd9-6095-45f7-9e4e-d75afaa122ec",
   "metadata": {},
   "outputs": [],
   "source": [
    "last_run_id = mlflow.search_runs(\n",
    "    experiment_ids=[mlflow.get_experiment_by_name(experiment_name).experiment_id], \n",
    "    max_results=1, \n",
    "    order_by=[\"attributes.start_time DESC\"]\n",
    ")['run_id'][0]\n",
    "\n",
    "presigned_url = sess.sagemaker_client.create_presigned_mlflow_tracking_server_url(\n",
    "    TrackingServerName=mlflow_name,\n",
    "    ExpiresInSeconds=60,\n",
    "    SessionExpirationDurationInSeconds=1800\n",
    ")['AuthorizedUrl']\n",
    "\n",
    "mlflow_run_link = f\"{presigned_url.split('/auth')[0]}/#/experiments/1/runs/{last_run_id}\""
   ]
  },
  {
   "cell_type": "code",
   "execution_count": 29,
   "id": "49ff9864-08a4-471a-b836-98be3671b319",
   "metadata": {},
   "outputs": [
    {
     "data": {
      "application/javascript": [
       "window.open(\"https://t-1slwpmxe6ptj.ap-northeast-2.experiments.sagemaker.aws/#/experiments/1/runs/5b5b5e742c224843bf0640322599ecf0\");"
      ],
      "text/plain": [
       "<IPython.core.display.Javascript object>"
      ]
     },
     "metadata": {},
     "output_type": "display_data"
    }
   ],
   "source": [
    "from IPython.display import Javascript\n",
    "\n",
    "display(Javascript('window.open(\"{}\");'.format(mlflow_run_link)))"
   ]
  },
  {
   "cell_type": "code",
   "execution_count": null,
   "id": "59b88a09-8386-43c5-a013-9931542d93c0",
   "metadata": {},
   "outputs": [],
   "source": []
  }
 ],
 "metadata": {
  "kernelspec": {
   "display_name": "Python 3 (ipykernel)",
   "language": "python",
   "name": "python3"
  },
  "language_info": {
   "codemirror_mode": {
    "name": "ipython",
    "version": 3
   },
   "file_extension": ".py",
   "mimetype": "text/x-python",
   "name": "python",
   "nbconvert_exporter": "python",
   "pygments_lexer": "ipython3",
   "version": "3.11.9"
  }
 },
 "nbformat": 4,
 "nbformat_minor": 5
}
