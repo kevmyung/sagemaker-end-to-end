{
 "cells": [
  {
   "cell_type": "markdown",
   "id": "4ecce4ad-8973-41f1-9128-92263225b788",
   "metadata": {},
   "source": [
    "# [Lab2] SageMaker Training"
   ]
  },
  {
   "cell_type": "code",
   "execution_count": null,
   "id": "c61aa426-39f5-4576-9e70-2a2c19693dac",
   "metadata": {},
   "outputs": [],
   "source": [
    "%store -r"
   ]
  },
  {
   "cell_type": "code",
   "execution_count": null,
   "id": "a87cd0d7-6d66-4754-9d91-36b3fccd7a04",
   "metadata": {},
   "outputs": [],
   "source": [
    "import sagemaker\n",
    "import boto3\n",
    "from time import gmtime, strftime\n",
    "\n",
    "boto_session = boto3.Session()\n",
    "sess = sagemaker.Session()"
   ]
  },
  {
   "cell_type": "markdown",
   "id": "25a47dc5-fbf6-4eff-b7fc-dba0dfb6ca65",
   "metadata": {},
   "source": [
    "## 1. Preparing for Training Job"
   ]
  },
  {
   "cell_type": "markdown",
   "id": "7fad6a8f-bba0-4131-a550-b923e86bf8da",
   "metadata": {},
   "source": [
    "### Dependencies"
   ]
  },
  {
   "cell_type": "code",
   "execution_count": null,
   "id": "e028cfc9-fc92-4904-bc04-f23dac31481c",
   "metadata": {},
   "outputs": [],
   "source": [
    "%mkdir -p './training/requirements/'"
   ]
  },
  {
   "cell_type": "code",
   "execution_count": null,
   "id": "f451bfd3-53d2-4d46-8deb-8d76ccee71b0",
   "metadata": {},
   "outputs": [],
   "source": [
    "%%writefile './training/requirements/requirements.txt'\n",
    "mlflow==2.13.2\n",
    "sagemaker-mlflow==0.1.0"
   ]
  },
  {
   "cell_type": "markdown",
   "id": "f058359c-e88c-4808-af88-165efeedc445",
   "metadata": {},
   "source": [
    "### Training Script"
   ]
  },
  {
   "cell_type": "markdown",
   "id": "c69a9c14-b86d-48b4-862a-888dec3659b3",
   "metadata": {},
   "source": [
    "#### MLFlow AutoLog - https://mlflow.org/docs/latest/tracking/autolog.html"
   ]
  },
  {
   "cell_type": "code",
   "execution_count": null,
   "id": "4cad4934-ecca-4485-adea-a004f805804e",
   "metadata": {},
   "outputs": [],
   "source": [
    "%%writefile ./training/train.py\n",
    "\n",
    "import argparse\n",
    "import json\n",
    "import os\n",
    "import xgboost as xgb\n",
    "from sklearn.metrics import roc_auc_score\n",
    "import mlflow\n",
    "import mlflow.xgboost\n",
    "\n",
    "def parse_args():\n",
    "    parser = argparse.ArgumentParser()\n",
    "\n",
    "    # Hyperparameters\n",
    "    parser.add_argument('--max_depth', type=int, default=5)\n",
    "    parser.add_argument('--eta', type=float, default=0.2)\n",
    "    parser.add_argument('--gamma', type=float, default=4)\n",
    "    parser.add_argument('--min_child_weight', type=float, default=6)\n",
    "    parser.add_argument('--subsample', type=float, default=0.8)\n",
    "    parser.add_argument('--objective', type=str, default='binary:logistic')\n",
    "    parser.add_argument('--num_round', type=int, default=50)\n",
    "    parser.add_argument('--verbosity', type=int, default=1)\n",
    "\n",
    "    # SageMaker parameters\n",
    "    parser.add_argument('--model_dir', type=str, default=os.environ.get('SM_MODEL_DIR'))\n",
    "    parser.add_argument('--train', type=str, default=os.environ.get('SM_CHANNEL_TRAIN'))\n",
    "    parser.add_argument('--validation', type=str, default=os.environ.get('SM_CHANNEL_VALIDATION'))\n",
    "\n",
    "    return parser.parse_args()\n",
    "\n",
    "if __name__ == '__main__':\n",
    "    args = parse_args()\n",
    "\n",
    "    mlflow.set_tracking_uri(os.getenv('MLFLOW_TRACKING_ARN'))\n",
    "\n",
    "    # Enable XGBoost autologging\n",
    "    mlflow.xgboost.autolog()\n",
    "\n",
    "    # Load data\n",
    "    dtrain = xgb.DMatrix(os.path.join(args.train, 'train.csv?format=csv&label_column=0'))\n",
    "    dval = xgb.DMatrix(os.path.join(args.validation, 'validation.csv?format=csv&label_column=0'))\n",
    "\n",
    "    params = {\n",
    "        'max_depth': args.max_depth,\n",
    "        'eta': args.eta,\n",
    "        'gamma': args.gamma,\n",
    "        'min_child_weight': args.min_child_weight,\n",
    "        'subsample': args.subsample,\n",
    "        'objective': args.objective,\n",
    "        'verbosity': args.verbosity,\n",
    "    }\n",
    "\n",
    "    with mlflow.start_run(run_id=os.environ['MLFLOW_RUN_ID']):\n",
    "        model = xgb.train(\n",
    "            params=params,\n",
    "            dtrain=dtrain,\n",
    "            num_boost_round=args.num_round,\n",
    "            evals=[(dval, 'validation')],\n",
    "        )\n",
    "\n",
    "        # Evaluate model\n",
    "        train_preds = model.predict(dtrain)\n",
    "        val_preds = model.predict(dval)\n",
    "\n",
    "        train_auc = roc_auc_score(dtrain.get_label(), train_preds)\n",
    "        val_auc = roc_auc_score(dval.get_label(), val_preds)\n",
    "\n",
    "        mlflow.log_metrics({'train_auc': train_auc, 'val_auc': val_auc})\n",
    "\n",
    "        # Save the model\n",
    "        model_location = os.path.join(args.model_dir, 'xgboost-model')\n",
    "        model.save_model(model_location)\n",
    "        mlflow.log_artifact(model_location)\n",
    "\n",
    "        print(f\"Training completed. Model saved at {model_location}\")\n",
    "        print(f\"Train AUC: {train_auc}, Validation AUC: {val_auc}\")"
   ]
  },
  {
   "cell_type": "markdown",
   "id": "114a08e3-5082-45e7-bf8e-0430e61f48a7",
   "metadata": {},
   "source": [
    "## 2. Input / Output Settings"
   ]
  },
  {
   "cell_type": "markdown",
   "id": "57a7b80e-9cfc-4dfd-ad7c-84ddc454f4a6",
   "metadata": {},
   "source": [
    "### Training Input"
   ]
  },
  {
   "cell_type": "markdown",
   "id": "07f2cfa6-cd6f-402f-86cc-711a2b9af599",
   "metadata": {},
   "source": [
    "#### Example - Built-in algorithm with Script Mode"
   ]
  },
  {
   "cell_type": "code",
   "execution_count": null,
   "id": "3f30267e-688d-40f9-9690-69569dca9051",
   "metadata": {},
   "outputs": [],
   "source": [
    "container = sagemaker.image_uris.retrieve(region=boto3.Session().region_name, framework='xgboost', version='1.7-1')"
   ]
  },
  {
   "cell_type": "code",
   "execution_count": null,
   "id": "5ea0364f-e50e-4568-8ee7-69981acf753d",
   "metadata": {},
   "outputs": [],
   "source": [
    "s3_input_train = sagemaker.inputs.TrainingInput(s3_data=train_path.format(bucket, prefix), content_type='csv')\n",
    "s3_input_validation = sagemaker.inputs.TrainingInput(s3_data=validation_path.format(bucket, prefix), content_type='csv')\n",
    "\n",
    "training_inputs = {'train': s3_input_train, 'validation': s3_input_validation}"
   ]
  },
  {
   "cell_type": "markdown",
   "id": "0a5243db-eacd-43f0-81ca-f87ce1d1e455",
   "metadata": {},
   "source": [
    "### Hypeparameters"
   ]
  },
  {
   "cell_type": "code",
   "execution_count": null,
   "id": "31d5a1a0-10dd-477c-a741-cbb5b17ab4cb",
   "metadata": {},
   "outputs": [],
   "source": [
    "xgb1 = sagemaker.estimator.Estimator(image_uri=container,\n",
    "                                    role=role, \n",
    "                                    instance_count=1, \n",
    "                                    instance_type='ml.m5.large',\n",
    "                                    output_path='s3://{}/{}/output/'.format(bucket, prefix),\n",
    "                                    base_job_name='training-job',\n",
    "                                    sagemaker_session=sess)\n",
    "\n",
    "xgb1.set_hyperparameters(max_depth=3,\n",
    "                        eta=0.5,\n",
    "                        gamma=4,\n",
    "                        eval_metric=\"auc\",\n",
    "                        min_child_weight=6,\n",
    "                        subsample=0.8,\n",
    "                        verbosity=0,\n",
    "                        objective='binary:logistic',\n",
    "                        num_round=50)\n",
    "\n",
    "xgb2 = sagemaker.estimator.Estimator(image_uri=container,\n",
    "                                    role=role, \n",
    "                                    instance_count=1, \n",
    "                                    instance_type='ml.m5.large',\n",
    "                                    output_path='s3://{}/{}/output/'.format(bucket, prefix),\n",
    "                                    base_job_name='training-job',\n",
    "                                    sagemaker_session=sess)\n",
    "\n",
    "xgb2.set_hyperparameters(max_depth=3,\n",
    "                        eta=0.1,\n",
    "                        gamma=2,\n",
    "                        eval_metric=\"auc\",\n",
    "                        min_child_weight=3,\n",
    "                        subsample=0.4,\n",
    "                        verbosity=0,\n",
    "                        objective='binary:logistic',\n",
    "                        num_round=100)"
   ]
  },
  {
   "cell_type": "markdown",
   "id": "e38c38dd-0a7d-4cec-abc1-c3b22e8dccae",
   "metadata": {},
   "source": [
    "### MLFlow Setup"
   ]
  },
  {
   "cell_type": "code",
   "execution_count": null,
   "id": "ab546085-a67f-43e8-930f-7d08cad2748e",
   "metadata": {},
   "outputs": [],
   "source": [
    "import mlflow\n",
    "\n",
    "mlflow.set_tracking_uri(mlflow_arn)\n",
    "experiment = mlflow.set_experiment(experiment_name=experiment_name)"
   ]
  },
  {
   "cell_type": "markdown",
   "id": "3bdad486-f85a-459a-a7ec-edf1b858dda6",
   "metadata": {},
   "source": [
    "## 3. Training Job"
   ]
  },
  {
   "cell_type": "markdown",
   "id": "dce85885-e687-4ead-bd9f-3db29805390d",
   "metadata": {},
   "source": [
    "### Training Job"
   ]
  },
  {
   "cell_type": "code",
   "execution_count": null,
   "id": "cbeddeef-848a-4477-9f15-f0f9dc32f30d",
   "metadata": {},
   "outputs": [],
   "source": [
    "xgb1.fit(training_inputs,wait=False,logs=False) "
   ]
  },
  {
   "cell_type": "code",
   "execution_count": null,
   "id": "89cfadbe-04d9-4137-8a06-6eddd6f73990",
   "metadata": {},
   "outputs": [],
   "source": [
    "xgb2.fit(training_inputs,wait=True,logs=False) "
   ]
  },
  {
   "cell_type": "markdown",
   "id": "bfaea3e7-2960-4c06-bad5-d07ba87c9fa9",
   "metadata": {},
   "source": [
    "## Training in progress. Please stand by."
   ]
  },
  {
   "cell_type": "markdown",
   "id": "9ebc991e-3499-4ea2-a054-2a59d5667619",
   "metadata": {},
   "source": [
    "### Logging the training job"
   ]
  },
  {
   "cell_type": "code",
   "execution_count": null,
   "id": "c29702e7-d53e-441a-98d2-caee5daa509d",
   "metadata": {},
   "outputs": [],
   "source": [
    "def load_model(model_data_s3_uri):\n",
    "    import xgboost as xgb\n",
    "    import tarfile\n",
    "    import pickle as pkl\n",
    "\n",
    "    model_file = \"./xgboost-model.tar.gz\"\n",
    "    bucket, key = model_data_s3_uri.replace(\"s3://\", \"\").split(\"/\", 1)\n",
    "    boto3.client(\"s3\").download_file(bucket, key, model_file)\n",
    "    \n",
    "    with tarfile.open(model_file, \"r:gz\") as t:\n",
    "        t.extractall(path=\".\")\n",
    "    \n",
    "    # Load model\n",
    "    model = xgb.Booster()\n",
    "    model.load_model(\"xgboost-model\")\n",
    "\n",
    "    return model\n",
    "    \n",
    "def run_logging(xgb_estimator, run_name):\n",
    "    with mlflow.start_run(run_name=run_name):\n",
    "        mlflow.log_params(xgb_estimator.hyperparameters())\n",
    "        mlflow.set_tags(\n",
    "            {\n",
    "                'mlflow.user': user_profile_name,\n",
    "                'mlflow.source.name': f'https://{region}.console.aws.amazon.com/sagemaker/home?region={region}#/jobs/{xgb_estimator.latest_training_job.name}',\n",
    "                'mlflow.source.type': 'JOB'\n",
    "            }\n",
    "        )\n",
    "        mlflow.log_param(\"training job name\", xgb_estimator.latest_training_job.name)\n",
    "        mlflow.log_param(\"model_origin\", xgb_estimator.model_data)\n",
    "\n",
    "        metrics = xgb_estimator.training_job_analytics.dataframe('auc')\n",
    "        logged_metrics = {}\n",
    "        for _, row in metrics.iterrows():\n",
    "            if row['metric_name'] in ['train:auc', 'validation:auc']:\n",
    "                logged_metrics[row['metric_name'].replace(':', '_')] = row['value']\n",
    "        mlflow.log_metrics(logged_metrics)\n",
    "        \n",
    "        model = load_model(xgb_estimator.model_data)\n",
    "        mlflow.xgboost.log_model(model, artifact_path=\"model\")"
   ]
  },
  {
   "cell_type": "code",
   "execution_count": null,
   "id": "41b962bb-d4fe-4bbd-a7d2-55bfe45fd7b3",
   "metadata": {},
   "outputs": [],
   "source": [
    "test_name_1 = \"hyperparam1\"\n",
    "run_name_1 = f\"{test_name_1}-training-{strftime('%d-%H-%M-%S', gmtime())}\"\n",
    "\n",
    "test_name_2 = \"hyperparam2\"\n",
    "run_name_2 = f\"{test_name_2}-training-{strftime('%d-%H-%M-%S', gmtime())}\""
   ]
  },
  {
   "cell_type": "code",
   "execution_count": null,
   "id": "eaadf53d-95f4-45ff-8473-90a1d95de782",
   "metadata": {},
   "outputs": [],
   "source": [
    "run_logging(xgb1, run_name_1)\n",
    "run_logging(xgb2, run_name_2)"
   ]
  },
  {
   "cell_type": "code",
   "execution_count": null,
   "id": "aa8073b4-6db2-461d-a6e7-736f0e43d902",
   "metadata": {},
   "outputs": [],
   "source": [
    "%store run_name_1\n",
    "%store run_name_2"
   ]
  },
  {
   "cell_type": "markdown",
   "id": "457a2b00-b74d-4fd6-898c-aa6520bcb461",
   "metadata": {},
   "source": [
    "## Checking the training results"
   ]
  },
  {
   "cell_type": "code",
   "execution_count": null,
   "id": "4a9d5835-67f7-467c-be88-1e1542441d88",
   "metadata": {},
   "outputs": [],
   "source": [
    "last_run_id = mlflow.search_runs(\n",
    "    experiment_ids=[mlflow.get_experiment_by_name(experiment_name).experiment_id], \n",
    "    max_results=1, \n",
    "    order_by=[\"attributes.start_time DESC\"]\n",
    ")['run_id'][0]\n",
    "\n",
    "presigned_url = sess.sagemaker_client.create_presigned_mlflow_tracking_server_url(\n",
    "    TrackingServerName=mlflow_name,\n",
    "    ExpiresInSeconds=60,\n",
    "    SessionExpirationDurationInSeconds=1800\n",
    ")['AuthorizedUrl']\n",
    "\n",
    "mlflow_run_link = f\"{presigned_url.split('/auth')[0]}/#/experiments/1/runs/{last_run_id}\""
   ]
  },
  {
   "cell_type": "code",
   "execution_count": null,
   "id": "b707c1c6-0d4f-421b-9705-7aa0d487fa34",
   "metadata": {},
   "outputs": [],
   "source": [
    "from IPython.display import Javascript\n",
    "\n",
    "display(Javascript('window.open(\"{}\");'.format(mlflow_run_link)))"
   ]
  },
  {
   "cell_type": "markdown",
   "id": "ba6a245a-228a-4277-b3c8-3f6c5214a822",
   "metadata": {},
   "source": [
    "## Register the models in MLFlow"
   ]
  },
  {
   "cell_type": "code",
   "execution_count": null,
   "id": "a2b4ad47-22c4-4936-bda0-f3b9eff5ec6d",
   "metadata": {},
   "outputs": [],
   "source": [
    "registered_model_name = f\"model-{experiment_name}\""
   ]
  },
  {
   "cell_type": "code",
   "execution_count": null,
   "id": "23fce149-92da-4df2-8c18-1e982df3ccd9",
   "metadata": {},
   "outputs": [],
   "source": [
    "run_id_1 = mlflow.search_runs(\n",
    "    experiment_ids=[mlflow.get_experiment_by_name(experiment_name).experiment_id], \n",
    "    max_results=2, \n",
    "    order_by=[\"attributes.start_time DESC\"]\n",
    ")['run_id'][1]\n",
    "\n",
    "model_uri = f\"runs:/{run_id_1}/model\"\n",
    "\n",
    "registered_model_version_1 = mlflow.register_model(model_uri, registered_model_name)"
   ]
  },
  {
   "cell_type": "code",
   "execution_count": null,
   "id": "580bbac4-c46d-497a-87a8-7ff9c6c820e8",
   "metadata": {},
   "outputs": [],
   "source": [
    "run_id_2 = mlflow.search_runs(\n",
    "    experiment_ids=[mlflow.get_experiment_by_name(experiment_name).experiment_id], \n",
    "    max_results=2, \n",
    "    order_by=[\"attributes.start_time DESC\"]\n",
    ")['run_id'][0]\n",
    "\n",
    "model_uri = f\"runs:/{run_id_2}/model\"\n",
    "\n",
    "registered_model_version_2 = mlflow.register_model(model_uri, registered_model_name)"
   ]
  },
  {
   "cell_type": "code",
   "execution_count": null,
   "id": "b2e20a23-a207-48ba-940c-00c2f0687441",
   "metadata": {},
   "outputs": [],
   "source": [
    "%store run_id_1\n",
    "%store run_id_2\n",
    "%store registered_model_version_1\n",
    "%store registered_model_version_2"
   ]
  },
  {
   "cell_type": "code",
   "execution_count": null,
   "id": "4c984dce-a948-4679-9551-66bdbfeef2f8",
   "metadata": {},
   "outputs": [],
   "source": [
    "mlflow.end_run()"
   ]
  }
 ],
 "metadata": {
  "kernelspec": {
   "display_name": "Python 3 (ipykernel)",
   "language": "python",
   "name": "python3"
  },
  "language_info": {
   "codemirror_mode": {
    "name": "ipython",
    "version": 3
   },
   "file_extension": ".py",
   "mimetype": "text/x-python",
   "name": "python",
   "nbconvert_exporter": "python",
   "pygments_lexer": "ipython3",
   "version": "3.11.9"
  }
 },
 "nbformat": 4,
 "nbformat_minor": 5
}
