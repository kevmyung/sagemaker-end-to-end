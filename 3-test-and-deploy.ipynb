{
 "cells": [
  {
   "cell_type": "markdown",
   "id": "0f1fb9d9-fed0-46af-b2ad-cd9a75b53c47",
   "metadata": {},
   "source": [
    "# [Lab3] SageMaker Deployment"
   ]
  },
  {
   "cell_type": "code",
   "execution_count": null,
   "id": "024ef172-06cd-4775-9823-c749fe2e2b39",
   "metadata": {},
   "outputs": [],
   "source": [
    "%store -r"
   ]
  },
  {
   "cell_type": "code",
   "execution_count": null,
   "id": "aa3fc679-a32e-40b5-9f0c-af1d3a6358f4",
   "metadata": {},
   "outputs": [],
   "source": [
    "import sagemaker\n",
    "import boto3\n",
    "from time import gmtime, strftime\n",
    "\n",
    "boto_session = boto3.Session()\n",
    "sess = sagemaker.Session()"
   ]
  },
  {
   "cell_type": "markdown",
   "id": "a6ef09ba-e671-4535-b398-c9207c54f6dd",
   "metadata": {},
   "source": [
    "## Local Test"
   ]
  },
  {
   "cell_type": "markdown",
   "id": "e0194cc8-9f71-40ce-8326-a4b84d44d53a",
   "metadata": {},
   "source": [
    "### Loading Test Dataset"
   ]
  },
  {
   "cell_type": "code",
   "execution_count": null,
   "id": "36ef7f5e-d99b-453c-a997-529e7a4b4bd1",
   "metadata": {},
   "outputs": [],
   "source": [
    "!aws s3 cp $test_path/test_x.csv tmp/test_x.csv\n",
    "!aws s3 cp $test_path/test_y.csv tmp/test_y.csv"
   ]
  },
  {
   "cell_type": "code",
   "execution_count": null,
   "id": "00b90f80-da1e-4de9-9170-89d5850bb1e5",
   "metadata": {},
   "outputs": [],
   "source": [
    "import pandas as pd\n",
    "import xgboost as xgb\n",
    "import numpy as np\n",
    "\n",
    "test_x = pd.read_csv('tmp/test_x.csv', names=[f'{i}' for i in range(59)])\n",
    "test_y = pd.read_csv('tmp/test_y.csv', names=['y'])"
   ]
  },
  {
   "cell_type": "markdown",
   "id": "a879749a-50fa-4bdd-a5ca-60c04e587c28",
   "metadata": {},
   "source": [
    "### Test - Model1"
   ]
  },
  {
   "cell_type": "code",
   "execution_count": null,
   "id": "95416524-70bc-4ff9-8b26-c73c9d82b3d9",
   "metadata": {},
   "outputs": [],
   "source": [
    "import mlflow\n",
    "\n",
    "model_uri = registered_model_version_1.source\n",
    "model = mlflow.xgboost.load_model(model_uri)\n",
    "\n",
    "dtest = xgb.DMatrix(test_x)\n",
    "predictions = np.array(model.predict(dtest), dtype=float).squeeze()\n",
    "predictions"
   ]
  },
  {
   "cell_type": "code",
   "execution_count": null,
   "id": "6ac17108-fd12-4571-a53f-041c19fefe52",
   "metadata": {},
   "outputs": [],
   "source": [
    "pd.crosstab(index=test_y['y'].values, columns=np.round(predictions), rownames=['actuals'], colnames=['predictions'])"
   ]
  },
  {
   "cell_type": "markdown",
   "id": "4428f402-b1ae-4762-ba3f-b9703592e3d5",
   "metadata": {},
   "source": [
    "### Test - Model2"
   ]
  },
  {
   "cell_type": "code",
   "execution_count": null,
   "id": "991b397b-f07c-459d-b759-ece862c84a47",
   "metadata": {},
   "outputs": [],
   "source": [
    "model_uri = registered_model_version_2.source\n",
    "model = mlflow.xgboost.load_model(model_uri)\n",
    "\n",
    "dtest = xgb.DMatrix(test_x)\n",
    "predictions = np.array(model.predict(dtest), dtype=float).squeeze()\n",
    "predictions"
   ]
  },
  {
   "cell_type": "code",
   "execution_count": null,
   "id": "fc484c9d-710d-4c2a-801c-22b2903fd193",
   "metadata": {},
   "outputs": [],
   "source": [
    "pd.crosstab(index=test_y['y'].values, columns=np.round(predictions), rownames=['actuals'], colnames=['predictions'])"
   ]
  },
  {
   "cell_type": "code",
   "execution_count": null,
   "id": "c39e7156-c126-4362-8cb7-cad06b08c745",
   "metadata": {},
   "outputs": [],
   "source": [
    "mlflow.set_tracking_uri(mlflow_arn)\n",
    "\n",
    "run = mlflow.get_run(run_id_1)"
   ]
  },
  {
   "cell_type": "code",
   "execution_count": null,
   "id": "600e9669-7a79-4b39-8ff4-b8fac0a7038c",
   "metadata": {},
   "outputs": [],
   "source": [
    "from sklearn import metrics\n",
    "from sklearn.metrics import RocCurveDisplay\n",
    "import matplotlib.pyplot as plt\n",
    "\n",
    "def plot_confusion_matrix(\n",
    "    cm, class_names, title=\"Confusion matrix\", cmap=plt.cm.Blues, normalize=False\n",
    "):\n",
    "    if normalize:\n",
    "        cm = cm.astype(\"float\") / cm.sum(axis=1)[:, np.newaxis]\n",
    "\n",
    "    fig, ax = plt.subplots()\n",
    "    im = ax.imshow(cm, interpolation=\"nearest\", cmap=cmap)\n",
    "    ax.figure.colorbar(im, ax=ax)\n",
    "    ax.set(\n",
    "        xticks=np.arange(cm.shape[1]),\n",
    "        yticks=np.arange(cm.shape[0]),\n",
    "        ylim=(cm.shape[0] - 0.5, -0.5),\n",
    "        xticklabels=class_names,\n",
    "        yticklabels=class_names,\n",
    "        title=title,\n",
    "        ylabel=\"Ground truth label\",\n",
    "        xlabel=\"Predicted label\",\n",
    "    )\n",
    "\n",
    "    # Rotate the tick labels and set their alignment.\n",
    "    plt.setp(ax.get_xticklabels(), rotation=30, ha=\"right\", rotation_mode=\"anchor\")\n",
    "\n",
    "    # Loop over data dimensions and create text annotations.\n",
    "    fmt = \".2f\"\n",
    "    thresh = cm.max() / 2.0\n",
    "    for i in range(cm.shape[0]):\n",
    "        for j in range(cm.shape[1]):\n",
    "            ax.text(\n",
    "                j,\n",
    "                i,\n",
    "                format(cm[i, j], fmt),\n",
    "                ha=\"center\",\n",
    "                va=\"center\",\n",
    "                color=\"white\" if cm[i, j] > thresh else \"black\",\n",
    "            )\n",
    "    fig.tight_layout()\n",
    "    return ax, fig"
   ]
  },
  {
   "cell_type": "code",
   "execution_count": null,
   "id": "0c2e0fea-5b94-436a-abe5-e87247116801",
   "metadata": {},
   "outputs": [],
   "source": [
    "class_names = [\"no\", \"yes\"]\n",
    "confusion_matrix = metrics.confusion_matrix(test_y, np.round(predictions))\n",
    "ax, fig = plot_confusion_matrix(confusion_matrix, class_names)"
   ]
  },
  {
   "cell_type": "code",
   "execution_count": null,
   "id": "f0ca4317-9ff8-4b55-bbae-97ed9a429c85",
   "metadata": {},
   "outputs": [],
   "source": [
    "print(f\"Log confusion matrix to the model {registered_model_version_1.name} version {registered_model_version_1.version}\")\n",
    "mlflow.set_experiment(experiment_name)\n",
    "with mlflow.start_run(run_id=registered_model_version_1.run_id):\n",
    "    mlflow.log_figure(fig, \"confusion_matrix.png\")"
   ]
  },
  {
   "cell_type": "markdown",
   "id": "3f113c24-458a-4b38-86e9-d884665165f3",
   "metadata": {},
   "source": [
    "## Deploy Model with a SageMaker Real-time Inference endpoint"
   ]
  },
  {
   "cell_type": "code",
   "execution_count": null,
   "id": "0c189f2d-9871-4452-8501-f27a722a27d7",
   "metadata": {},
   "outputs": [],
   "source": [
    "from time import gmtime, strftime"
   ]
  },
  {
   "cell_type": "code",
   "execution_count": null,
   "id": "e932a533-1c73-460b-a9d1-0e41f82a15b5",
   "metadata": {},
   "outputs": [],
   "source": [
    "container = sagemaker.image_uris.retrieve(region=boto3.Session().region_name, framework='xgboost', version='1.7-1')"
   ]
  },
  {
   "cell_type": "code",
   "execution_count": null,
   "id": "9840b48d-54a9-4e10-927c-acb4c2f32ffb",
   "metadata": {},
   "outputs": [],
   "source": [
    "from sagemaker.model import Model\n",
    "\n",
    "run = mlflow.get_run(run_id_1)\n",
    "model_data = run.data.params[\"model_origin\"]\n",
    "xgb1_model = Model(model_data=model_data,\n",
    "                   image_uri=container,  \n",
    "                   role=role,  \n",
    "                   sagemaker_session=sess,\n",
    "                   name=\"xgb1-model\")\n",
    "\n",
    "run = mlflow.get_run(run_id_2)\n",
    "model_data = run.data.params[\"model_origin\"]\n",
    "xgb2_model = Model(model_data=model_data,\n",
    "                   image_uri=container,  \n",
    "                   role=role,  \n",
    "                   sagemaker_session=sess,\n",
    "                   name=\"xgb2-model\")\n",
    "\n",
    "xgb1_model.create()\n",
    "xgb2_model.create()"
   ]
  },
  {
   "cell_type": "code",
   "execution_count": null,
   "id": "aa25a721-3e0f-4d6a-8f56-27d8f0cffd6d",
   "metadata": {},
   "outputs": [],
   "source": [
    "endpoint_config_name = f\"my-endpoint-config-{strftime('%d-%H-%M-%S', gmtime())}\"\n",
    "\n",
    "response = sess.sagemaker_client.create_endpoint_config(\n",
    "    EndpointConfigName=endpoint_config_name,\n",
    "    ProductionVariants=[\n",
    "        {\n",
    "            \"VariantName\": \"Variant1\",\n",
    "            \"ModelName\": \"xgb1-model\",\n",
    "            \"InstanceType\": \"ml.m5.large\",\n",
    "            \"InitialInstanceCount\": 1,\n",
    "            \"InitialVariantWeight\": 1,  # 50%\n",
    "            \"RoutingConfig\": {\n",
    "                \"RoutingStrategy\": \"LEAST_OUTSTANDING_REQUESTS\"\n",
    "            }\n",
    "        },\n",
    "        {\n",
    "            \"VariantName\": \"Variant2\",\n",
    "            \"ModelName\": \"xgb2-model\",\n",
    "            \"InstanceType\": \"ml.m5.large\",\n",
    "            \"InitialInstanceCount\": 1,\n",
    "            \"InitialVariantWeight\": 1,  # 50%\n",
    "            \"RoutingConfig\": {\n",
    "                \"RoutingStrategy\": \"LEAST_OUTSTANDING_REQUESTS\"\n",
    "            }\n",
    "        }\n",
    "    ]\n",
    ")\n"
   ]
  },
  {
   "cell_type": "code",
   "execution_count": null,
   "id": "70b36337-d4dd-41b0-b690-793d3551dc03",
   "metadata": {},
   "outputs": [],
   "source": [
    "endpoint_name = f\"my-endpoint-{strftime('%d-%H-%M-%S', gmtime())}\"\n",
    "\n",
    "response = sess.sagemaker_client.create_endpoint(\n",
    "    EndpointName=endpoint_name,\n",
    "    EndpointConfigName=endpoint_config_name,\n",
    ")"
   ]
  },
  {
   "cell_type": "code",
   "execution_count": null,
   "id": "50ea1041-e52f-4fcb-8b7b-a1abc1f21683",
   "metadata": {},
   "outputs": [],
   "source": [
    "%store endpoint_name"
   ]
  },
  {
   "cell_type": "markdown",
   "id": "50ff6f2d-d0dd-4b9b-b24e-9d682ced2ba1",
   "metadata": {},
   "source": [
    "### Please wait while the endpoint is being deployed."
   ]
  },
  {
   "cell_type": "code",
   "execution_count": null,
   "id": "70420d65-bcf8-4b8e-b3e9-00221505e98f",
   "metadata": {},
   "outputs": [],
   "source": [
    "waiter = sess.sagemaker_client.get_waiter('endpoint_in_service')\n",
    "waiter.wait(EndpointName=endpoint_name)"
   ]
  },
  {
   "cell_type": "markdown",
   "id": "d61509ab-5f90-43d6-820c-26b8bc97f0a9",
   "metadata": {},
   "source": [
    "## Test Endpoint"
   ]
  },
  {
   "cell_type": "code",
   "execution_count": null,
   "id": "4ead76c9-b742-40fa-b39d-963f59f924df",
   "metadata": {},
   "outputs": [],
   "source": [
    "import json \n",
    "\n",
    "test_x = pd.read_csv('tmp/test_x.csv', names=[f'{i}' for i in range(59)], nrows=1)\n",
    "record = ','.join(map(str, test_x.iloc[0]))\n",
    "\n",
    "sm_runtime = boto3.client('runtime.sagemaker')\n",
    "\n",
    "for i in range(10):\n",
    "    response = sm_runtime.invoke_endpoint(\n",
    "        EndpointName=endpoint_name,\n",
    "        ContentType='text/csv',  \n",
    "        Body=record \n",
    "    )\n",
    "    result = response['Body'].read().decode('utf-8')\n",
    "\n",
    "    try:\n",
    "        parsed_result = json.loads(result)\n",
    "        print('Parsed result:', parsed_result)\n",
    "    except json.JSONDecodeError:\n",
    "        print('Result is not valid JSON')"
   ]
  },
  {
   "cell_type": "code",
   "execution_count": null,
   "id": "2e671d5f-324b-423c-8d02-84bab58215b1",
   "metadata": {},
   "outputs": [],
   "source": [
    "update_endpoint_config_response = sess.sagemaker_client.update_endpoint_weights_and_capacities(\n",
    "    EndpointName=endpoint_name,\n",
    "    DesiredWeightsAndCapacities=[\n",
    "        {\n",
    "            \"VariantName\": \"Variant1\",\n",
    "            \"DesiredWeight\": 0,\n",
    "        },\n",
    "        {\n",
    "            \"VariantName\": \"Variant2\",\n",
    "            \"DesiredWeight\": 100,\n",
    "        }\n",
    "    ]\n",
    ")"
   ]
  },
  {
   "cell_type": "code",
   "execution_count": null,
   "id": "9b04b086-b449-4468-adf9-c8f13c72a9ba",
   "metadata": {},
   "outputs": [],
   "source": [
    "test_x = pd.read_csv('tmp/test_x.csv', names=[f'{i}' for i in range(59)], nrows=1)\n",
    "record = ','.join(map(str, test_x.iloc[0]))\n",
    "\n",
    "sm_runtime = boto3.client('runtime.sagemaker')\n",
    "\n",
    "for i in range(10):\n",
    "    response = sm_runtime.invoke_endpoint(\n",
    "        EndpointName=endpoint_name,\n",
    "        ContentType='text/csv',  \n",
    "        Body=record \n",
    "    )\n",
    "    result = response['Body'].read().decode('utf-8')\n",
    "\n",
    "    try:\n",
    "        parsed_result = json.loads(result)\n",
    "        print('Parsed result:', parsed_result)\n",
    "    except json.JSONDecodeError:\n",
    "        print('Result is not valid JSON')"
   ]
  },
  {
   "cell_type": "markdown",
   "id": "bdfdc13f-0142-4676-a502-9418de0b601a",
   "metadata": {},
   "source": [
    "## Remember to delete the endpoint when it's no longer needed"
   ]
  },
  {
   "cell_type": "code",
   "execution_count": null,
   "id": "4a8da1a0-13ec-48bc-8eb7-a8795a95f718",
   "metadata": {},
   "outputs": [],
   "source": [
    "# sm_client.delete_endpoint(\n",
    "#     EndpointName=endpoint_name\n",
    "# )"
   ]
  }
 ],
 "metadata": {
  "kernelspec": {
   "display_name": "Python 3 (ipykernel)",
   "language": "python",
   "name": "python3"
  },
  "language_info": {
   "codemirror_mode": {
    "name": "ipython",
    "version": 3
   },
   "file_extension": ".py",
   "mimetype": "text/x-python",
   "name": "python",
   "nbconvert_exporter": "python",
   "pygments_lexer": "ipython3",
   "version": "3.11.9"
  }
 },
 "nbformat": 4,
 "nbformat_minor": 5
}
