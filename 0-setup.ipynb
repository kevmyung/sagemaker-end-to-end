{
 "cells": [
  {
   "cell_type": "markdown",
   "id": "572c21ea-3f15-4f80-9937-c8e611b34f65",
   "metadata": {},
   "source": [
    "# [Lab0] Environments Setup"
   ]
  },
  {
   "cell_type": "code",
   "execution_count": null,
   "id": "3dfa0636-53f2-4a92-88d0-216b9d014086",
   "metadata": {},
   "outputs": [],
   "source": [
    "%pip install -q mlflow==2.13.2 sagemaker-mlflow"
   ]
  },
  {
   "cell_type": "code",
   "execution_count": null,
   "id": "50ab4e86-664c-400b-ba58-228b4b9d7ac8",
   "metadata": {},
   "outputs": [],
   "source": [
    "# Restart kernel to get the packages\n",
    "import IPython\n",
    "IPython.Application.instance().kernel.do_shutdown(True)"
   ]
  },
  {
   "cell_type": "markdown",
   "id": "d3026786-de3d-4c4a-819a-41ee75004e9e",
   "metadata": {},
   "source": [
    "## 1. Basic Environments "
   ]
  },
  {
   "cell_type": "code",
   "execution_count": null,
   "id": "731e6844-1727-43f4-8378-314cd6efc82b",
   "metadata": {},
   "outputs": [],
   "source": [
    "import os\n",
    "import json\n",
    "import mlflow\n",
    "import boto3\n",
    "import sagemaker \n",
    "\n",
    "# boto3 client\n",
    "boto_session = boto3.Session()\n",
    "sm_client = boto_session.client(\"sagemaker\")\n",
    "region = boto_session.region_name\n",
    "\n",
    "# sagemaker SDK\n",
    "sess = sagemaker.Session()\n",
    "role = sagemaker.get_execution_role() \n",
    "\n",
    "bucket = sess.default_bucket()\n",
    "prefix = 'sagemaker/DEMO-xgboost-dm'"
   ]
  },
  {
   "cell_type": "code",
   "execution_count": null,
   "id": "971f5d79-d592-47e4-96ec-97ca8e54f7dd",
   "metadata": {},
   "outputs": [],
   "source": [
    "%store bucket\n",
    "%store prefix\n",
    "%store role\n",
    "%store region"
   ]
  },
  {
   "cell_type": "markdown",
   "id": "a3c0fc87-71af-4459-9d92-7ab5ba9e4a5e",
   "metadata": {},
   "source": [
    "#### Space Metadata"
   ]
  },
  {
   "cell_type": "code",
   "execution_count": null,
   "id": "4d79f854-63ec-42ba-8e68-86a507c07467",
   "metadata": {},
   "outputs": [],
   "source": [
    "NOTEBOOK_METADATA_FILE = \"/opt/ml/metadata/resource-metadata.json\"\n",
    "domain_id = None\n",
    "\n",
    "if os.path.exists(NOTEBOOK_METADATA_FILE):\n",
    "    with open(NOTEBOOK_METADATA_FILE, \"rb\") as f:\n",
    "        metadata = json.loads(f.read())\n",
    "        domain_id = metadata.get('DomainId')\n",
    "        space_name = metadata.get('SpaceName')\n",
    "        print(f\"SageMaker domain id: {domain_id}\")\n",
    "\n",
    "if not space_name:\n",
    "    raise Exception(f\"Cannot find the current space name. Make sure you run this notebook in a JupyterLab in the SageMaker Studio\")\n",
    "else:\n",
    "    print(f\"Space name: {space_name}\")\n",
    "    \n",
    "r = sm_client.describe_space(DomainId=domain_id, SpaceName=space_name)\n",
    "user_profile_name = r['OwnershipSettings']['OwnerUserProfileName']\n",
    "\n",
    "assert(user_profile_name)\n",
    "print(f\"User profile: {user_profile_name}\")\n",
    "\n",
    "%store domain_id\n",
    "%store space_name\n",
    "%store user_profile_name"
   ]
  },
  {
   "cell_type": "markdown",
   "id": "20031049-54e3-4490-8a48-5e4eef30b25b",
   "metadata": {},
   "source": [
    "## 2. Experimental Setup (MLFlow Tracking Server)"
   ]
  },
  {
   "cell_type": "code",
   "execution_count": null,
   "id": "2dbc5410-1d08-4bba-95e7-5b3d85a54832",
   "metadata": {},
   "outputs": [],
   "source": [
    "from time import gmtime, strftime\n",
    "\n",
    "ts = strftime('%d-%H-%M-%S', gmtime())\n",
    "mlflow_name = f\"mlflow-{domain_id}-{ts}\"\n",
    "r = boto3.client(\"sagemaker\").create_mlflow_tracking_server(\n",
    "    TrackingServerName=mlflow_name,\n",
    "    ArtifactStoreUri=f\"s3://{bucket}/mlflow/{ts}\",\n",
    "    RoleArn=role,\n",
    "    AutomaticModelRegistration=True,\n",
    ")\n",
    "\n",
    "mlflow_arn = r['TrackingServerArn']\n",
    "print(f\"Server creation request succeded. The server {mlflow_arn} is being created.\")"
   ]
  },
  {
   "cell_type": "markdown",
   "id": "ab6be4dc-26f3-4ddb-9230-92273f32be37",
   "metadata": {},
   "source": [
    "####      It takes about 20 minutes to initiate a new MLflow tracking server."
   ]
  },
  {
   "cell_type": "markdown",
   "id": "fbc46bec-915e-4a7b-bce8-676032c52a26",
   "metadata": {},
   "source": [
    "## 3. Data Setup "
   ]
  },
  {
   "cell_type": "code",
   "execution_count": null,
   "id": "d9e4f305-d1cc-4662-845e-84354532d5ce",
   "metadata": {},
   "outputs": [],
   "source": [
    "import zipfile\n",
    "import pandas as pd"
   ]
  },
  {
   "cell_type": "code",
   "execution_count": null,
   "id": "11b7c50f-9cfe-467c-b2ab-aefafacace4c",
   "metadata": {},
   "outputs": [],
   "source": [
    "with zipfile.ZipFile('bank-additional.zip', 'r') as zip_ref:\n",
    "    zip_ref.extractall('.')"
   ]
  },
  {
   "cell_type": "code",
   "execution_count": null,
   "id": "a71551cf-9428-4858-b344-b20b2671a964",
   "metadata": {},
   "outputs": [],
   "source": [
    "data = pd.read_csv('./bank-additional/bank-additional-full.csv')\n",
    "pd.set_option('display.max_columns', 500)     # Make sure we can see all of the columns\n",
    "pd.set_option('display.max_rows', 20)         # Keep the output on one page\n",
    "data"
   ]
  },
  {
   "cell_type": "markdown",
   "id": "aebd8e11-0143-4a35-a2e1-4e72e1ce4b41",
   "metadata": {},
   "source": [
    "## 4. Check MLFlow Server"
   ]
  },
  {
   "cell_type": "code",
   "execution_count": null,
   "id": "cdfa1102-fd7c-4793-a924-91ee987d3e46",
   "metadata": {},
   "outputs": [],
   "source": [
    "# Server in the 'Created' status.\n",
    "r = boto3.client(\"sagemaker\").list_mlflow_tracking_servers(TrackingServerStatus='Created',)['TrackingServerSummaries']\n",
    "\n",
    "if len(r) < 1:\n",
    "    print(\"You don't have any running MLflow servers. Trying to find a server in the status 'Creating'...\")\n",
    "\n",
    "    r = boto3.client(\"sagemaker\").list_mlflow_tracking_servers(TrackingServerStatus='Creating')['TrackingServerSummaries']\n",
    "\n",
    "    # Server in the 'Creating' status.\n",
    "    if len(r) < 1:\n",
    "        print(\"You don't have any MLflow server in the status 'Creating'.\")\n",
    "        mlflow_arn = None\n",
    "        mlflow_name = None\n",
    "    else:\n",
    "        mlflow_arn = r[0]['TrackingServerArn']\n",
    "        mlflow_name = r[0]['TrackingServerName']\n",
    "        print(f\"You have an MLflow server {mlflow_arn} in the status 'Creating', going to use this one\")\n",
    "else:\n",
    "    mlflow_arn = r[0]['TrackingServerArn']\n",
    "    mlflow_name = r[0]['TrackingServerName']\n",
    "    print(f\"You have {len(r)} running MLflow server(s). Get the first server ARN:{mlflow_arn}\")"
   ]
  },
  {
   "cell_type": "code",
   "execution_count": null,
   "id": "d9838dcb-262f-42e2-9db2-f1df1caef542",
   "metadata": {},
   "outputs": [],
   "source": [
    "experiment_suffix = strftime('%d-%H-%M-%S', gmtime())\n",
    "experiment_name = f\"end-to-end-experiment-{experiment_suffix}\""
   ]
  },
  {
   "cell_type": "code",
   "execution_count": null,
   "id": "4562ffc2-1166-4470-91bd-eeee6c4f8bf9",
   "metadata": {},
   "outputs": [],
   "source": [
    "(mlflow_arn, mlflow_name)"
   ]
  },
  {
   "cell_type": "code",
   "execution_count": null,
   "id": "82927cb4-8bd7-46ca-87c1-5ffb467ae1e2",
   "metadata": {},
   "outputs": [],
   "source": [
    "%store mlflow_arn\n",
    "%store mlflow_name\n",
    "%store experiment_name"
   ]
  }
 ],
 "metadata": {
  "kernelspec": {
   "display_name": "Python 3 (ipykernel)",
   "language": "python",
   "name": "python3"
  },
  "language_info": {
   "codemirror_mode": {
    "name": "ipython",
    "version": 3
   },
   "file_extension": ".py",
   "mimetype": "text/x-python",
   "name": "python",
   "nbconvert_exporter": "python",
   "pygments_lexer": "ipython3",
   "version": "3.11.9"
  }
 },
 "nbformat": 4,
 "nbformat_minor": 5
}
