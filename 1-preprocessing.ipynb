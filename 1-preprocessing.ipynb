{
 "cells": [
  {
   "cell_type": "markdown",
   "id": "3b098cad-43ae-4044-a071-e115cadb0501",
   "metadata": {},
   "source": [
    "# [Lab1] SageMaker Processing"
   ]
  },
  {
   "cell_type": "code",
   "execution_count": 1,
   "id": "0bec468a-a0d5-4084-a858-86b35d8d9593",
   "metadata": {},
   "outputs": [],
   "source": [
    "%store -r"
   ]
  },
  {
   "cell_type": "code",
   "execution_count": 2,
   "id": "594464c1-d3df-4ed8-aa7e-0d638439c982",
   "metadata": {},
   "outputs": [
    {
     "name": "stdout",
     "output_type": "stream",
     "text": [
      "sagemaker.config INFO - Not applying SDK defaults from location: /etc/xdg/sagemaker/config.yaml\n",
      "sagemaker.config INFO - Not applying SDK defaults from location: /home/sagemaker-user/.config/sagemaker/config.yaml\n"
     ]
    }
   ],
   "source": [
    "import sagemaker\n",
    "import boto3\n",
    "from time import gmtime, strftime\n",
    "\n",
    "boto_session = boto3.Session()\n",
    "sess = sagemaker.Session()"
   ]
  },
  {
   "cell_type": "markdown",
   "id": "d26e4246-cc09-450a-8b4b-5636eccea2b5",
   "metadata": {},
   "source": [
    "## 1. Preparing for Proecessing Job"
   ]
  },
  {
   "cell_type": "markdown",
   "id": "7d998a5a-4715-4d68-b64a-021c4ab2a08f",
   "metadata": {},
   "source": [
    "### Dependencies"
   ]
  },
  {
   "cell_type": "code",
   "execution_count": 3,
   "id": "9b4c0dbc-7c51-48fc-a382-bc1390988b44",
   "metadata": {},
   "outputs": [],
   "source": [
    "%mkdir -p './processing/requirements/'"
   ]
  },
  {
   "cell_type": "code",
   "execution_count": 4,
   "id": "565d6cae-9d96-491e-9b05-e9b1dc3df5d8",
   "metadata": {},
   "outputs": [
    {
     "name": "stdout",
     "output_type": "stream",
     "text": [
      "Writing ./processing/requirements/requirements.txt\n"
     ]
    }
   ],
   "source": [
    "%%writefile './processing/requirements/requirements.txt'\n",
    "mlflow==2.13.2\n",
    "sagemaker-mlflow==0.1.0"
   ]
  },
  {
   "cell_type": "markdown",
   "id": "f74b287d-5303-4653-8ea8-2e63033a8a43",
   "metadata": {},
   "source": [
    "### Processing Script"
   ]
  },
  {
   "cell_type": "code",
   "execution_count": 5,
   "id": "e11e8c8a-dc9e-4c8e-ae1a-503e1736d236",
   "metadata": {},
   "outputs": [
    {
     "name": "stdout",
     "output_type": "stream",
     "text": [
      "Writing processing/preprocessing.py\n"
     ]
    }
   ],
   "source": [
    "%%writefile processing/preprocessing.py\n",
    "\n",
    "import pandas as pd\n",
    "import numpy as np\n",
    "import argparse\n",
    "import os\n",
    "import mlflow\n",
    "from sklearn.preprocessing import OrdinalEncoder\n",
    "\n",
    "user_profile_name = os.getenv('USER')\n",
    "\n",
    "def _parse_args():\n",
    "\n",
    "    parser = argparse.ArgumentParser()\n",
    "\n",
    "    # Data, model, and output directories\n",
    "    parser.add_argument('--filepath', type=str, default='/opt/ml/processing/input/')\n",
    "    parser.add_argument('--filename', type=str, default='bank-additional-full.csv')\n",
    "    parser.add_argument('--outputpath', type=str, default='/opt/ml/processing/output/')\n",
    "    parser.add_argument('--categorical_features', type=str, default='y, job, marital, education, default, housing, loan, contact, month, day_of_week, poutcome')\n",
    "\n",
    "    return parser.parse_known_args()\n",
    "\n",
    "if __name__==\"__main__\":\n",
    "    # Process arguments\n",
    "    args, _ = _parse_args()\n",
    "    \n",
    "    mlflow.set_tracking_uri(os.environ['MLFLOW_TRACKING_ARN'])\n",
    "    mlflow.autolog()\n",
    "    \n",
    "    with mlflow.start_run(run_id=os.environ['MLFLOW_RUN_ID']) as run:\n",
    "        # Load data\n",
    "        df = pd.read_csv(os.path.join(args.filepath, args.filename))\n",
    "        \n",
    "        # Change the value . into _\n",
    "        df = df.replace(regex=r'\\.', value='_')\n",
    "        df = df.replace(regex=r'\\_$', value='')\n",
    "        \n",
    "        # Add two new indicators\n",
    "        df[\"no_previous_contact\"] = (df[\"pdays\"] == 999).astype(int)\n",
    "        df[\"not_working\"] = df[\"job\"].isin([\"student\", \"retired\", \"unemployed\"]).astype(int)\n",
    "        df = df.drop(['duration', 'emp.var.rate', 'cons.price.idx', 'cons.conf.idx', 'euribor3m', 'nr.employed'], axis=1)\n",
    "        \n",
    "        # Encode the categorical features\n",
    "        df = pd.get_dummies(df)\n",
    "        \n",
    "        # Train, test, validation split\n",
    "        train_data, validation_data, test_data = np.split(df.sample(frac=1, random_state=42), [int(0.7 * len(df)), int(0.9 * len(df))])   # Randomly sort the data then split out first 70%, second 20%, and last 10%\n",
    "        \n",
    "        mlflow.log_params(\n",
    "            {\n",
    "                \"train\": train_data.shape,\n",
    "                \"validate\": validation_data.shape,\n",
    "                \"test\": test_data.shape\n",
    "            }\n",
    "        )\n",
    "\n",
    "        mlflow.set_tags(\n",
    "            {\n",
    "                'mlflow.user':user_profile_name,\n",
    "                'mlflow.source.type':'JOB'\n",
    "            }\n",
    "        )\n",
    "        \n",
    "        # Local store\n",
    "        pd.concat([train_data['y_yes'], train_data.drop(['y_yes','y_no'], axis=1)], axis=1).to_csv(os.path.join(args.outputpath, 'train/train.csv'), index=False, header=False)\n",
    "        pd.concat([validation_data['y_yes'], validation_data.drop(['y_yes','y_no'], axis=1)], axis=1).to_csv(os.path.join(args.outputpath, 'validation/validation.csv'), index=False, header=False)\n",
    "        test_data['y_yes'].to_csv(os.path.join(args.outputpath, 'test/test_y.csv'), index=False, header=False)\n",
    "        test_data.drop(['y_yes','y_no'], axis=1).to_csv(os.path.join(args.outputpath, 'test/test_x.csv'), index=False, header=False)\n",
    "\n",
    "        # For logging artifacts\n",
    "        df.drop(['y_yes','y_no'], axis=1).to_csv(os.path.join(args.outputpath, 'baseline/baseline.csv'), index=False, header=False)\n",
    "        mlflow.log_artifact(local_path=os.path.join(args.outputpath, 'baseline/baseline.csv'))\n",
    "        \n",
    "    print(\"## Processing complete. Exiting.\")"
   ]
  },
  {
   "cell_type": "markdown",
   "id": "759076db-8655-4849-8688-e6013641e7e8",
   "metadata": {},
   "source": [
    "## 2. Input / Output Settings"
   ]
  },
  {
   "cell_type": "markdown",
   "id": "807a26a2-449e-4aeb-ba4d-903f7e4ee1d9",
   "metadata": {},
   "source": [
    "### Input Path"
   ]
  },
  {
   "cell_type": "code",
   "execution_count": 6,
   "id": "d8702b7a-5e3a-44ce-968f-9a9aa25a9779",
   "metadata": {},
   "outputs": [
    {
     "data": {
      "text/plain": [
       "'s3://sagemaker-ap-northeast-2-185567426878/sagemaker/DEMO-xgboost-dm/input_data/bank-additional-full.csv'"
      ]
     },
     "execution_count": 6,
     "metadata": {},
     "output_type": "execute_result"
    }
   ],
   "source": [
    "input_source = sess.upload_data('./bank-additional/bank-additional-full.csv', bucket=bucket, key_prefix=f'{prefix}/input_data')\n",
    "input_source"
   ]
  },
  {
   "cell_type": "code",
   "execution_count": 7,
   "id": "7294f9a4-1484-4aba-a93c-bbb286a8bc5c",
   "metadata": {},
   "outputs": [
    {
     "name": "stdout",
     "output_type": "stream",
     "text": [
      "Stored 'input_source' (str)\n"
     ]
    }
   ],
   "source": [
    "%store input_source"
   ]
  },
  {
   "cell_type": "markdown",
   "id": "e33b9ecf-cac4-4aeb-8b19-aa1e1d3eab3b",
   "metadata": {},
   "source": [
    "### Output Path"
   ]
  },
  {
   "cell_type": "code",
   "execution_count": 8,
   "id": "d046f58e-ba92-4517-964b-f14df79e8e55",
   "metadata": {},
   "outputs": [],
   "source": [
    "train_path = f\"s3://{bucket}/{prefix}/train\"\n",
    "validation_path = f\"s3://{bucket}/{prefix}/validation\"\n",
    "test_path = f\"s3://{bucket}/{prefix}/test\"\n",
    "baseline_path = f\"s3://{bucket}/{prefix}/baseline\""
   ]
  },
  {
   "cell_type": "code",
   "execution_count": 9,
   "id": "ccc163e1-2021-45da-a5ff-e5ef23b5f1b1",
   "metadata": {},
   "outputs": [
    {
     "name": "stdout",
     "output_type": "stream",
     "text": [
      "Stored 'train_path' (str)\n",
      "Stored 'validation_path' (str)\n",
      "Stored 'test_path' (str)\n",
      "Stored 'baseline_path' (str)\n"
     ]
    }
   ],
   "source": [
    "%store train_path\n",
    "%store validation_path\n",
    "%store test_path\n",
    "%store baseline_path"
   ]
  },
  {
   "cell_type": "markdown",
   "id": "2215d19e-4f59-446d-a20d-8275625c50de",
   "metadata": {},
   "source": [
    "### Processing with Experimental Setup\n",
    "\n",
    "- Experiment Start : `mlflow.start_run()`\n",
    "  \n",
    "- **Processing | Training | Evaluating / ...**\n",
    "  \n",
    "- Experiment End : `mlflow.end_run()`"
   ]
  },
  {
   "cell_type": "code",
   "execution_count": 11,
   "id": "19d74707-1435-456b-b451-981b0f04b2f5",
   "metadata": {},
   "outputs": [
    {
     "name": "stderr",
     "output_type": "stream",
     "text": [
      "2024/10/20 12:17:10 INFO mlflow.tracking.fluent: Experiment with name 'end-to-end-experiment-20-11-52-06' does not exist. Creating a new experiment.\n"
     ]
    }
   ],
   "source": [
    "import mlflow\n",
    "\n",
    "mlflow.set_tracking_uri(mlflow_arn)\n",
    "experiment = mlflow.set_experiment(experiment_name=experiment_name)"
   ]
  },
  {
   "cell_type": "code",
   "execution_count": 12,
   "id": "fe14d207-0b7f-415f-bf3b-c2c6ba19a5e7",
   "metadata": {},
   "outputs": [],
   "source": [
    "run_suffix = strftime('%d-%H-%M-%S', gmtime())\n",
    "run_name = f\"container-processing-{run_suffix}\"\n",
    "\n",
    "run_id = mlflow.start_run(run_name=run_name, description=\"feature-engineering with a processing job\").info.run_id"
   ]
  },
  {
   "cell_type": "code",
   "execution_count": 13,
   "id": "a211b29d-2219-4951-86e6-fd377cddd48b",
   "metadata": {},
   "outputs": [],
   "source": [
    "from sagemaker.sklearn import SKLearn\n",
    "from sagemaker.processing import FrameworkProcessor\n",
    "from sagemaker.processing import ProcessingInput, ProcessingOutput\n",
    "from sagemaker import get_execution_role\n",
    "\n",
    "\n",
    "sklearn_processor = FrameworkProcessor(\n",
    "    estimator_cls=SKLearn,\n",
    "    framework_version=\"1.2-1\",\n",
    "    role=get_execution_role(),\n",
    "    instance_type=\"ml.m5.large\",\n",
    "    instance_count=1, \n",
    "    base_job_name='sm-immday-skprocessing',\n",
    "    # Environmet Variables\n",
    "    env={\n",
    "        'MLFLOW_TRACKING_ARN': mlflow_arn,\n",
    "        'MLFLOW_RUN_ID': run_id,\n",
    "        'USER': user_profile_name\n",
    "    }\n",
    ")\n",
    "\n",
    "processing_inputs = [\n",
    "    ProcessingInput(\n",
    "        source=input_source, \n",
    "        destination=\"/opt/ml/processing/input\",\n",
    "        s3_input_mode=\"File\",\n",
    "        s3_data_distribution_type=\"ShardedByS3Key\"\n",
    "    )\n",
    "]\n",
    "\n",
    "processing_outputs = [\n",
    "        ProcessingOutput(\n",
    "            output_name=\"train_data\", \n",
    "            source=\"/opt/ml/processing/output/train\",\n",
    "            destination=train_path,\n",
    "        ),\n",
    "        ProcessingOutput(\n",
    "            output_name=\"validation_data\", \n",
    "            source=\"/opt/ml/processing/output/validation\", \n",
    "            destination=validation_path\n",
    "        ),\n",
    "        ProcessingOutput(\n",
    "            output_name=\"test_data\", \n",
    "            source=\"/opt/ml/processing/output/test\", \n",
    "            destination=test_path\n",
    "        ),\n",
    "        ProcessingOutput(\n",
    "            output_name=\"baseline_data\", \n",
    "            source=\"/opt/ml/processing/output/baseline\", \n",
    "            destination=baseline_path\n",
    "        )\n",
    "]"
   ]
  },
  {
   "cell_type": "code",
   "execution_count": 14,
   "id": "b340290a-569e-4929-93f0-0fdc8ed6a4db",
   "metadata": {},
   "outputs": [
    {
     "name": "stderr",
     "output_type": "stream",
     "text": [
      "INFO:sagemaker:Creating processing-job with name sm-immday-skprocessing-2024-10-20-12-17-41-181\n"
     ]
    },
    {
     "name": "stdout",
     "output_type": "stream",
     "text": [
      "............\u001b[34mFound existing installation: typing 3.7.4.3\u001b[0m\n",
      "\u001b[34mUninstalling typing-3.7.4.3:\n",
      "  Successfully uninstalled typing-3.7.4.3\u001b[0m\n",
      "\u001b[34mCollecting mlflow==2.13.2 (from -r requirements.txt (line 1))\n",
      "  Downloading mlflow-2.13.2-py3-none-any.whl.metadata (29 kB)\u001b[0m\n",
      "\u001b[34mCollecting sagemaker-mlflow==0.1.0 (from -r requirements.txt (line 2))\n",
      "  Downloading sagemaker_mlflow-0.1.0-py3-none-any.whl.metadata (3.3 kB)\u001b[0m\n",
      "\u001b[34mRequirement already satisfied: Flask<4 in /miniconda3/lib/python3.9/site-packages (from mlflow==2.13.2->-r requirements.txt (line 1)) (1.1.1)\u001b[0m\n",
      "\u001b[34mCollecting alembic!=1.10.0,<2 (from mlflow==2.13.2->-r requirements.txt (line 1))\n",
      "  Downloading alembic-1.13.3-py3-none-any.whl.metadata (7.4 kB)\u001b[0m\n",
      "\u001b[34mCollecting cachetools<6,>=5.0.0 (from mlflow==2.13.2->-r requirements.txt (line 1))\n",
      "  Downloading cachetools-5.5.0-py3-none-any.whl.metadata (5.3 kB)\u001b[0m\n",
      "\u001b[34mRequirement already satisfied: click<9,>=7.0 in /miniconda3/lib/python3.9/site-packages (from mlflow==2.13.2->-r requirements.txt (line 1)) (8.1.7)\u001b[0m\n",
      "\u001b[34mCollecting cloudpickle<4 (from mlflow==2.13.2->-r requirements.txt (line 1))\n",
      "  Downloading cloudpickle-3.1.0-py3-none-any.whl.metadata (7.0 kB)\u001b[0m\n",
      "\u001b[34mCollecting docker<8,>=4.0.0 (from mlflow==2.13.2->-r requirements.txt (line 1))\n",
      "  Downloading docker-7.1.0-py3-none-any.whl.metadata (3.8 kB)\u001b[0m\n",
      "\u001b[34mCollecting entrypoints<1 (from mlflow==2.13.2->-r requirements.txt (line 1))\n",
      "  Downloading entrypoints-0.4-py3-none-any.whl.metadata (2.6 kB)\u001b[0m\n",
      "\u001b[34mCollecting gitpython<4,>=3.1.9 (from mlflow==2.13.2->-r requirements.txt (line 1))\n",
      "  Downloading GitPython-3.1.43-py3-none-any.whl.metadata (13 kB)\u001b[0m\n",
      "\u001b[34mCollecting graphene<4 (from mlflow==2.13.2->-r requirements.txt (line 1))\n",
      "  Downloading graphene-3.4-py2.py3-none-any.whl.metadata (6.7 kB)\u001b[0m\n",
      "\u001b[34mCollecting importlib-metadata!=4.7.0,<8,>=3.7.0 (from mlflow==2.13.2->-r requirements.txt (line 1))\n",
      "  Downloading importlib_metadata-7.2.1-py3-none-any.whl.metadata (4.6 kB)\u001b[0m\n",
      "\u001b[34mCollecting markdown<4,>=3.3 (from mlflow==2.13.2->-r requirements.txt (line 1))\n",
      "  Downloading Markdown-3.7-py3-none-any.whl.metadata (7.0 kB)\u001b[0m\n",
      "\u001b[34mCollecting matplotlib<4 (from mlflow==2.13.2->-r requirements.txt (line 1))\n",
      "  Downloading matplotlib-3.9.2-cp39-cp39-manylinux_2_17_x86_64.manylinux2014_x86_64.whl.metadata (11 kB)\u001b[0m\n",
      "\u001b[34mRequirement already satisfied: numpy<2 in /miniconda3/lib/python3.9/site-packages (from mlflow==2.13.2->-r requirements.txt (line 1)) (1.24.1)\u001b[0m\n",
      "\u001b[34mCollecting opentelemetry-api<3,>=1.0.0 (from mlflow==2.13.2->-r requirements.txt (line 1))\n",
      "  Downloading opentelemetry_api-1.27.0-py3-none-any.whl.metadata (1.4 kB)\u001b[0m\n",
      "\u001b[34mCollecting opentelemetry-sdk<3,>=1.0.0 (from mlflow==2.13.2->-r requirements.txt (line 1))\n",
      "  Downloading opentelemetry_sdk-1.27.0-py3-none-any.whl.metadata (1.5 kB)\u001b[0m\n",
      "\u001b[34mRequirement already satisfied: packaging<25 in /miniconda3/lib/python3.9/site-packages (from mlflow==2.13.2->-r requirements.txt (line 1)) (24.1)\u001b[0m\n",
      "\u001b[34mRequirement already satisfied: pandas<3 in /miniconda3/lib/python3.9/site-packages (from mlflow==2.13.2->-r requirements.txt (line 1)) (1.1.3)\u001b[0m\n",
      "\u001b[34mRequirement already satisfied: protobuf<5,>=3.12.0 in /miniconda3/lib/python3.9/site-packages (from mlflow==2.13.2->-r requirements.txt (line 1)) (3.20.2)\u001b[0m\n",
      "\u001b[34mRequirement already satisfied: pyarrow<16,>=4.0.0 in /miniconda3/lib/python3.9/site-packages (from mlflow==2.13.2->-r requirements.txt (line 1)) (14.0.1)\u001b[0m\n",
      "\u001b[34mRequirement already satisfied: pytz<2025 in /miniconda3/lib/python3.9/site-packages (from mlflow==2.13.2->-r requirements.txt (line 1)) (2024.2)\u001b[0m\n",
      "\u001b[34mCollecting pyyaml<7,>=5.1 (from mlflow==2.13.2->-r requirements.txt (line 1))\n",
      "  Downloading PyYAML-6.0.2-cp39-cp39-manylinux_2_17_x86_64.manylinux2014_x86_64.whl.metadata (2.1 kB)\u001b[0m\n",
      "\u001b[34mCollecting querystring-parser<2 (from mlflow==2.13.2->-r requirements.txt (line 1))\n",
      "  Downloading querystring_parser-1.2.4-py2.py3-none-any.whl.metadata (559 bytes)\u001b[0m\n",
      "\u001b[34mRequirement already satisfied: requests<3,>=2.17.3 in /miniconda3/lib/python3.9/site-packages (from mlflow==2.13.2->-r requirements.txt (line 1)) (2.32.3)\u001b[0m\n",
      "\u001b[34mRequirement already satisfied: scikit-learn<2 in /miniconda3/lib/python3.9/site-packages (from mlflow==2.13.2->-r requirements.txt (line 1)) (1.2.1)\u001b[0m\n",
      "\u001b[34mRequirement already satisfied: scipy<2 in /miniconda3/lib/python3.9/site-packages (from mlflow==2.13.2->-r requirements.txt (line 1)) (1.8.0)\u001b[0m\n",
      "\u001b[34mCollecting sqlalchemy<3,>=1.4.0 (from mlflow==2.13.2->-r requirements.txt (line 1))\n",
      "  Downloading SQLAlchemy-2.0.36-cp39-cp39-manylinux_2_17_x86_64.manylinux2014_x86_64.whl.metadata (9.7 kB)\u001b[0m\n",
      "\u001b[34mCollecting sqlparse<1,>=0.4.0 (from mlflow==2.13.2->-r requirements.txt (line 1))\n",
      "  Downloading sqlparse-0.5.1-py3-none-any.whl.metadata (3.9 kB)\u001b[0m\n",
      "\u001b[34mRequirement already satisfied: Jinja2<4,>=2.11 in /miniconda3/lib/python3.9/site-packages (from mlflow==2.13.2->-r requirements.txt (line 1)) (3.0.3)\u001b[0m\n",
      "\u001b[34mRequirement already satisfied: gunicorn<23 in /miniconda3/lib/python3.9/site-packages (from mlflow==2.13.2->-r requirements.txt (line 1)) (20.0.4)\u001b[0m\n",
      "\u001b[34mCollecting boto3>=1.34 (from sagemaker-mlflow==0.1.0->-r requirements.txt (line 2))\n",
      "  Downloading boto3-1.35.44-py3-none-any.whl.metadata (6.7 kB)\u001b[0m\n",
      "\u001b[34mCollecting Mako (from alembic!=1.10.0,<2->mlflow==2.13.2->-r requirements.txt (line 1))\n",
      "  Downloading Mako-1.3.5-py3-none-any.whl.metadata (2.9 kB)\u001b[0m\n",
      "\u001b[34mCollecting typing-extensions>=4 (from alembic!=1.10.0,<2->mlflow==2.13.2->-r requirements.txt (line 1))\n",
      "  Downloading typing_extensions-4.12.2-py3-none-any.whl.metadata (3.0 kB)\u001b[0m\n",
      "\u001b[34mCollecting botocore<1.36.0,>=1.35.44 (from boto3>=1.34->sagemaker-mlflow==0.1.0->-r requirements.txt (line 2))\n",
      "  Downloading botocore-1.35.44-py3-none-any.whl.metadata (5.7 kB)\u001b[0m\n",
      "\u001b[34mRequirement already satisfied: jmespath<2.0.0,>=0.7.1 in /miniconda3/lib/python3.9/site-packages (from boto3>=1.34->sagemaker-mlflow==0.1.0->-r requirements.txt (line 2)) (1.0.1)\u001b[0m\n",
      "\u001b[34mCollecting s3transfer<0.11.0,>=0.10.0 (from boto3>=1.34->sagemaker-mlflow==0.1.0->-r requirements.txt (line 2))\n",
      "  Downloading s3transfer-0.10.3-py3-none-any.whl.metadata (1.7 kB)\u001b[0m\n",
      "\u001b[34mRequirement already satisfied: urllib3>=1.26.0 in /miniconda3/lib/python3.9/site-packages (from docker<8,>=4.0.0->mlflow==2.13.2->-r requirements.txt (line 1)) (1.26.20)\u001b[0m\n",
      "\u001b[34mRequirement already satisfied: Werkzeug>=0.15 in /miniconda3/lib/python3.9/site-packages (from Flask<4->mlflow==2.13.2->-r requirements.txt (line 1)) (2.0.3)\u001b[0m\n",
      "\u001b[34mRequirement already satisfied: itsdangerous>=0.24 in /miniconda3/lib/python3.9/site-packages (from Flask<4->mlflow==2.13.2->-r requirements.txt (line 1)) (2.0.1)\u001b[0m\n",
      "\u001b[34mCollecting gitdb<5,>=4.0.1 (from gitpython<4,>=3.1.9->mlflow==2.13.2->-r requirements.txt (line 1))\n",
      "  Downloading gitdb-4.0.11-py3-none-any.whl.metadata (1.2 kB)\u001b[0m\n",
      "\u001b[34mCollecting graphql-core<3.3,>=3.1 (from graphene<4->mlflow==2.13.2->-r requirements.txt (line 1))\n",
      "  Downloading graphql_core-3.2.5-py3-none-any.whl.metadata (10 kB)\u001b[0m\n",
      "\u001b[34mCollecting graphql-relay<3.3,>=3.1 (from graphene<4->mlflow==2.13.2->-r requirements.txt (line 1))\n",
      "  Downloading graphql_relay-3.2.0-py3-none-any.whl.metadata (12 kB)\u001b[0m\n",
      "\u001b[34mRequirement already satisfied: setuptools>=3.0 in /miniconda3/lib/python3.9/site-packages (from gunicorn<23->mlflow==2.13.2->-r requirements.txt (line 1)) (65.5.1)\u001b[0m\n",
      "\u001b[34mCollecting zipp>=0.5 (from importlib-metadata!=4.7.0,<8,>=3.7.0->mlflow==2.13.2->-r requirements.txt (line 1))\n",
      "  Downloading zipp-3.20.2-py3-none-any.whl.metadata (3.7 kB)\u001b[0m\n",
      "\u001b[34mRequirement already satisfied: MarkupSafe>=2.0 in /miniconda3/lib/python3.9/site-packages (from Jinja2<4,>=2.11->mlflow==2.13.2->-r requirements.txt (line 1)) (2.1.1)\u001b[0m\n",
      "\u001b[34mCollecting contourpy>=1.0.1 (from matplotlib<4->mlflow==2.13.2->-r requirements.txt (line 1))\n",
      "  Downloading contourpy-1.3.0-cp39-cp39-manylinux_2_17_x86_64.manylinux2014_x86_64.whl.metadata (5.4 kB)\u001b[0m\n",
      "\u001b[34mCollecting cycler>=0.10 (from matplotlib<4->mlflow==2.13.2->-r requirements.txt (line 1))\n",
      "  Downloading cycler-0.12.1-py3-none-any.whl.metadata (3.8 kB)\u001b[0m\n",
      "\u001b[34mCollecting fonttools>=4.22.0 (from matplotlib<4->mlflow==2.13.2->-r requirements.txt (line 1))\n",
      "  Downloading fonttools-4.54.1-cp39-cp39-manylinux_2_17_x86_64.manylinux2014_x86_64.whl.metadata (163 kB)\u001b[0m\n",
      "\u001b[34mCollecting kiwisolver>=1.3.1 (from matplotlib<4->mlflow==2.13.2->-r requirements.txt (line 1))\n",
      "  Downloading kiwisolver-1.4.7-cp39-cp39-manylinux_2_12_x86_64.manylinux2010_x86_64.whl.metadata (6.3 kB)\u001b[0m\n",
      "\u001b[34mRequirement already satisfied: pillow>=8 in /miniconda3/lib/python3.9/site-packages (from matplotlib<4->mlflow==2.13.2->-r requirements.txt (line 1)) (10.4.0)\u001b[0m\n",
      "\u001b[34mCollecting pyparsing>=2.3.1 (from matplotlib<4->mlflow==2.13.2->-r requirements.txt (line 1))\n",
      "  Downloading pyparsing-3.2.0-py3-none-any.whl.metadata (5.0 kB)\u001b[0m\n",
      "\u001b[34mRequirement already satisfied: python-dateutil>=2.7 in /miniconda3/lib/python3.9/site-packages (from matplotlib<4->mlflow==2.13.2->-r requirements.txt (line 1)) (2.8.1)\u001b[0m\n",
      "\u001b[34mCollecting importlib-resources>=3.2.0 (from matplotlib<4->mlflow==2.13.2->-r requirements.txt (line 1))\n",
      "  Downloading importlib_resources-6.4.5-py3-none-any.whl.metadata (4.0 kB)\u001b[0m\n",
      "\u001b[34mCollecting deprecated>=1.2.6 (from opentelemetry-api<3,>=1.0.0->mlflow==2.13.2->-r requirements.txt (line 1))\n",
      "  Downloading Deprecated-1.2.14-py2.py3-none-any.whl.metadata (5.4 kB)\u001b[0m\n",
      "\u001b[34mCollecting opentelemetry-semantic-conventions==0.48b0 (from opentelemetry-sdk<3,>=1.0.0->mlflow==2.13.2->-r requirements.txt (line 1))\n",
      "  Downloading opentelemetry_semantic_conventions-0.48b0-py3-none-any.whl.metadata (2.4 kB)\u001b[0m\n",
      "\u001b[34mRequirement already satisfied: six in /miniconda3/lib/python3.9/site-packages (from querystring-parser<2->mlflow==2.13.2->-r requirements.txt (line 1)) (1.15.0)\u001b[0m\n",
      "\u001b[34mRequirement already satisfied: charset-normalizer<4,>=2 in /miniconda3/lib/python3.9/site-packages (from requests<3,>=2.17.3->mlflow==2.13.2->-r requirements.txt (line 1)) (3.3.2)\u001b[0m\n",
      "\u001b[34mRequirement already satisfied: idna<4,>=2.5 in /miniconda3/lib/python3.9/site-packages (from requests<3,>=2.17.3->mlflow==2.13.2->-r requirements.txt (line 1)) (3.7)\u001b[0m\n",
      "\u001b[34mRequirement already satisfied: certifi>=2017.4.17 in /miniconda3/lib/python3.9/site-packages (from requests<3,>=2.17.3->mlflow==2.13.2->-r requirements.txt (line 1)) (2023.7.22)\u001b[0m\n",
      "\u001b[34mRequirement already satisfied: joblib>=1.1.1 in /miniconda3/lib/python3.9/site-packages (from scikit-learn<2->mlflow==2.13.2->-r requirements.txt (line 1)) (1.4.2)\u001b[0m\n",
      "\u001b[34mRequirement already satisfied: threadpoolctl>=2.0.0 in /miniconda3/lib/python3.9/site-packages (from scikit-learn<2->mlflow==2.13.2->-r requirements.txt (line 1)) (3.5.0)\u001b[0m\n",
      "\u001b[34mRequirement already satisfied: greenlet!=0.4.17 in /miniconda3/lib/python3.9/site-packages (from sqlalchemy<3,>=1.4.0->mlflow==2.13.2->-r requirements.txt (line 1)) (3.1.1)\u001b[0m\n",
      "\u001b[34mCollecting wrapt<2,>=1.10 (from deprecated>=1.2.6->opentelemetry-api<3,>=1.0.0->mlflow==2.13.2->-r requirements.txt (line 1))\n",
      "  Downloading wrapt-1.16.0-cp39-cp39-manylinux_2_5_x86_64.manylinux1_x86_64.manylinux_2_17_x86_64.manylinux2014_x86_64.whl.metadata (6.6 kB)\u001b[0m\n",
      "\u001b[34mCollecting smmap<6,>=3.0.1 (from gitdb<5,>=4.0.1->gitpython<4,>=3.1.9->mlflow==2.13.2->-r requirements.txt (line 1))\n",
      "  Downloading smmap-5.0.1-py3-none-any.whl.metadata (4.3 kB)\u001b[0m\n",
      "\u001b[34mDownloading mlflow-2.13.2-py3-none-any.whl (25.0 MB)\n",
      "   ━━━━━━━━━━━━━━━━━━━━━━━━━━━━━━━━━━━━━━━━ 25.0/25.0 MB 62.4 MB/s eta 0:00:00\u001b[0m\n",
      "\u001b[34mDownloading sagemaker_mlflow-0.1.0-py3-none-any.whl (24 kB)\u001b[0m\n",
      "\u001b[34mDownloading alembic-1.13.3-py3-none-any.whl (233 kB)\u001b[0m\n",
      "\u001b[34mDownloading boto3-1.35.44-py3-none-any.whl (139 kB)\u001b[0m\n",
      "\u001b[34mDownloading cachetools-5.5.0-py3-none-any.whl (9.5 kB)\u001b[0m\n",
      "\u001b[34mDownloading cloudpickle-3.1.0-py3-none-any.whl (22 kB)\u001b[0m\n",
      "\u001b[34mDownloading docker-7.1.0-py3-none-any.whl (147 kB)\u001b[0m\n",
      "\u001b[34mDownloading entrypoints-0.4-py3-none-any.whl (5.3 kB)\u001b[0m\n",
      "\u001b[34mDownloading GitPython-3.1.43-py3-none-any.whl (207 kB)\u001b[0m\n",
      "\u001b[34mDownloading graphene-3.4-py2.py3-none-any.whl (114 kB)\u001b[0m\n",
      "\u001b[34mDownloading importlib_metadata-7.2.1-py3-none-any.whl (25 kB)\u001b[0m\n",
      "\u001b[34mDownloading Markdown-3.7-py3-none-any.whl (106 kB)\u001b[0m\n",
      "\u001b[34mDownloading matplotlib-3.9.2-cp39-cp39-manylinux_2_17_x86_64.manylinux2014_x86_64.whl (8.3 MB)\u001b[0m\n",
      "\u001b[34m   ━━━━━━━━━━━━━━━━━━━━━━━━━━━━━━━━━━━━━━━━ 8.3/8.3 MB 124.9 MB/s eta 0:00:00\u001b[0m\n",
      "\u001b[34mDownloading opentelemetry_api-1.27.0-py3-none-any.whl (63 kB)\u001b[0m\n",
      "\u001b[34mDownloading opentelemetry_sdk-1.27.0-py3-none-any.whl (110 kB)\u001b[0m\n",
      "\u001b[34mDownloading opentelemetry_semantic_conventions-0.48b0-py3-none-any.whl (149 kB)\u001b[0m\n",
      "\u001b[34mDownloading PyYAML-6.0.2-cp39-cp39-manylinux_2_17_x86_64.manylinux2014_x86_64.whl (737 kB)\n",
      "   ━━━━━━━━━━━━━━━━━━━━━━━━━━━━━━━━━━━━━━━━ 737.4/737.4 kB 84.8 MB/s eta 0:00:00\u001b[0m\n",
      "\u001b[34mDownloading querystring_parser-1.2.4-py2.py3-none-any.whl (7.9 kB)\u001b[0m\n",
      "\u001b[34mDownloading SQLAlchemy-2.0.36-cp39-cp39-manylinux_2_17_x86_64.manylinux2014_x86_64.whl (3.1 MB)\n",
      "   ━━━━━━━━━━━━━━━━━━━━━━━━━━━━━━━━━━━━━━━━ 3.1/3.1 MB 185.4 MB/s eta 0:00:00\u001b[0m\n",
      "\u001b[34mDownloading sqlparse-0.5.1-py3-none-any.whl (44 kB)\u001b[0m\n",
      "\u001b[34mDownloading botocore-1.35.44-py3-none-any.whl (12.6 MB)\n",
      "   ━━━━━━━━━━━━━━━━━━━━━━━━━━━━━━━━━━━━━━━━ 12.6/12.6 MB 195.6 MB/s eta 0:00:00\u001b[0m\n",
      "\u001b[34mDownloading contourpy-1.3.0-cp39-cp39-manylinux_2_17_x86_64.manylinux2014_x86_64.whl (321 kB)\u001b[0m\n",
      "\u001b[34mDownloading cycler-0.12.1-py3-none-any.whl (8.3 kB)\u001b[0m\n",
      "\u001b[34mDownloading Deprecated-1.2.14-py2.py3-none-any.whl (9.6 kB)\u001b[0m\n",
      "\u001b[34mDownloading fonttools-4.54.1-cp39-cp39-manylinux_2_17_x86_64.manylinux2014_x86_64.whl (4.6 MB)\n",
      "   ━━━━━━━━━━━━━━━━━━━━━━━━━━━━━━━━━━━━━━━━ 4.6/4.6 MB 199.3 MB/s eta 0:00:00\u001b[0m\n",
      "\u001b[34mDownloading gitdb-4.0.11-py3-none-any.whl (62 kB)\u001b[0m\n",
      "\u001b[34mDownloading graphql_core-3.2.5-py3-none-any.whl (203 kB)\u001b[0m\n",
      "\u001b[34mDownloading graphql_relay-3.2.0-py3-none-any.whl (16 kB)\u001b[0m\n",
      "\u001b[34mDownloading importlib_resources-6.4.5-py3-none-any.whl (36 kB)\u001b[0m\n",
      "\u001b[34mDownloading kiwisolver-1.4.7-cp39-cp39-manylinux_2_12_x86_64.manylinux2010_x86_64.whl (1.6 MB)\n",
      "   ━━━━━━━━━━━━━━━━━━━━━━━━━━━━━━━━━━━━━━━━ 1.6/1.6 MB 125.5 MB/s eta 0:00:00\u001b[0m\n",
      "\u001b[34mDownloading pyparsing-3.2.0-py3-none-any.whl (106 kB)\u001b[0m\n",
      "\u001b[34mDownloading s3transfer-0.10.3-py3-none-any.whl (82 kB)\u001b[0m\n",
      "\u001b[34mDownloading typing_extensions-4.12.2-py3-none-any.whl (37 kB)\u001b[0m\n",
      "\u001b[34mDownloading zipp-3.20.2-py3-none-any.whl (9.2 kB)\u001b[0m\n",
      "\u001b[34mDownloading Mako-1.3.5-py3-none-any.whl (78 kB)\u001b[0m\n",
      "\u001b[34mDownloading smmap-5.0.1-py3-none-any.whl (24 kB)\u001b[0m\n",
      "\u001b[34mDownloading wrapt-1.16.0-cp39-cp39-manylinux_2_5_x86_64.manylinux1_x86_64.manylinux_2_17_x86_64.manylinux2014_x86_64.whl (80 kB)\u001b[0m\n",
      "\u001b[34mInstalling collected packages: zipp, wrapt, typing-extensions, sqlparse, smmap, querystring-parser, pyyaml, pyparsing, Mako, kiwisolver, fonttools, entrypoints, cycler, contourpy, cloudpickle, cachetools, sqlalchemy, importlib-resources, importlib-metadata, graphql-core, gitdb, docker, deprecated, botocore, s3transfer, opentelemetry-api, matplotlib, markdown, graphql-relay, gitpython, alembic, opentelemetry-semantic-conventions, graphene, boto3, opentelemetry-sdk, mlflow, sagemaker-mlflow\u001b[0m\n",
      "\u001b[34m  Attempting uninstall: botocore\n",
      "    Found existing installation: botocore 1.31.85\n",
      "    Uninstalling botocore-1.31.85:\n",
      "      Successfully uninstalled botocore-1.31.85\u001b[0m\n",
      "\u001b[34m  Attempting uninstall: s3transfer\n",
      "    Found existing installation: s3transfer 0.7.0\n",
      "    Uninstalling s3transfer-0.7.0:\n",
      "      Successfully uninstalled s3transfer-0.7.0\u001b[0m\n",
      "\u001b[34m  Attempting uninstall: boto3\n",
      "    Found existing installation: boto3 1.28.57\n",
      "    Uninstalling boto3-1.28.57:\n",
      "      Successfully uninstalled boto3-1.28.57\u001b[0m\n",
      "\u001b[34mERROR: pip's dependency resolver does not currently take into account all the packages that are installed. This behaviour is the source of the following dependency conflicts.\u001b[0m\n",
      "\u001b[34msagemaker-containers 2.8.6.post2 requires typing, which is not installed.\u001b[0m\n",
      "\u001b[34msagemaker-sklearn-container 2.0 requires boto3==1.28.57, but you have boto3 1.35.44 which is incompatible.\u001b[0m\n",
      "\u001b[34msagemaker-sklearn-container 2.0 requires botocore<1.32.0,>=1.31.57, but you have botocore 1.35.44 which is incompatible.\u001b[0m\n",
      "\u001b[34mSuccessfully installed Mako-1.3.5 alembic-1.13.3 boto3-1.35.44 botocore-1.35.44 cachetools-5.5.0 cloudpickle-3.1.0 contourpy-1.3.0 cycler-0.12.1 deprecated-1.2.14 docker-7.1.0 entrypoints-0.4 fonttools-4.54.1 gitdb-4.0.11 gitpython-3.1.43 graphene-3.4 graphql-core-3.2.5 graphql-relay-3.2.0 importlib-metadata-7.2.1 importlib-resources-6.4.5 kiwisolver-1.4.7 markdown-3.7 matplotlib-3.9.2 mlflow-2.13.2 opentelemetry-api-1.27.0 opentelemetry-sdk-1.27.0 opentelemetry-semantic-conventions-0.48b0 pyparsing-3.2.0 pyyaml-6.0.2 querystring-parser-1.2.4 s3transfer-0.10.3 sagemaker-mlflow-0.1.0 smmap-5.0.1 sqlalchemy-2.0.36 sqlparse-0.5.1 typing-extensions-4.12.2 wrapt-1.16.0 zipp-3.20.2\u001b[0m\n",
      "\u001b[34m2024/10/20 12:19:54 INFO mlflow.tracking.fluent: Autologging successfully enabled for sklearn.\u001b[0m\n",
      "\u001b[34m## Processing complete. Exiting.\u001b[0m\n",
      "\n"
     ]
    }
   ],
   "source": [
    "sklearn_processor.run(\n",
    "    inputs=processing_inputs,\n",
    "    code='processing/preprocessing.py',\n",
    "    outputs=processing_outputs,\n",
    "    dependencies=['processing/requirements/requirements.txt'],\n",
    "    # arguments = [\n",
    "    #     '--filename', 'bank-additional-full.csv',\n",
    "    #     '--categorical_features', 'y, job, marital, education, default, housing, loan, contact, month, day_of_week, poutcome'\n",
    "    # ],\n",
    "    wait=True\n",
    ")"
   ]
  },
  {
   "cell_type": "code",
   "execution_count": 15,
   "id": "45d00356-c829-4076-9d09-f43b5ecfa03e",
   "metadata": {},
   "outputs": [],
   "source": [
    "mlflow.set_tags(\n",
    "    {\n",
    "        'mlflow.source.name':f'https://{region}.console.aws.amazon.com/sagemaker/home?region={region}#/processing-jobs/{sklearn_processor.latest_job.name}',\n",
    "    }\n",
    ")\n",
    "\n",
    "mlflow.end_run()"
   ]
  },
  {
   "cell_type": "code",
   "execution_count": 16,
   "id": "1c7d4c71-94cd-4c41-82fc-a419cf2b24ab",
   "metadata": {},
   "outputs": [],
   "source": [
    "last_run_id = mlflow.search_runs(\n",
    "    experiment_ids=[mlflow.get_experiment_by_name(experiment_name).experiment_id], \n",
    "    max_results=1, \n",
    "    order_by=[\"attributes.start_time DESC\"]\n",
    ")['run_id'][0]\n",
    "\n",
    "presigned_url = sess.sagemaker_client.create_presigned_mlflow_tracking_server_url(\n",
    "    TrackingServerName=mlflow_name,\n",
    "    ExpiresInSeconds=60,\n",
    "    SessionExpirationDurationInSeconds=1800\n",
    ")['AuthorizedUrl']\n",
    "\n",
    "mlflow_run_link = f\"{presigned_url.split('/auth')[0]}/#/experiments/1/runs/{last_run_id}\""
   ]
  },
  {
   "cell_type": "code",
   "execution_count": 17,
   "id": "e881f91c-7769-43c4-81d9-afd41cfc5c6d",
   "metadata": {},
   "outputs": [
    {
     "data": {
      "application/javascript": [
       "window.open(\"https://t-l5mjknwe7hmo.ap-northeast-2.experiments.sagemaker.aws/auth?authToken=eyJhbGciOiJIUzI1NiJ9.eyJhdXRoVG9rZW5JZCI6ImZiN2Y2MWZhLWQzZTctNDRhMi04YmNiLTQ3NmNlZGZmM2EyOSIsImZhc0NyZWRlbnRpYWxzIjoiQWdWNEtZYUVxdmU5b05VVDZVeVN6QXp5RHBGN0lJcFhST0V1LzNIRWJjUlZ6NFVBWHdBQkFCVmhkM010WTNKNWNIUnZMWEIxWW14cFl5MXJaWGtBUkVGMFYzZDZjR1pIUnpCeFRsTlFiMk00ZVVSMUt6Qk5kbE5KTkhCVkwycExSbkZ4ZWpkbmVtNHllbUkzWlhVNFZWTjNjR2x1VGpCbFVHWjBjRUZpTUhjNFp6MDlBQUVBQjJGM2N5MXJiWE1BVUdGeWJqcGhkM002YTIxek9tRndMVzV2Y25Sb1pXRnpkQzB5T2pZMU5EWTFOREl3TnpNeU5UcHJaWGt2TkRsbU56WmpNRGN0T1RGak1DMDBZbVU0TFRoaU5HVXRNVGRqTm1RelkySm1NbVkwQUxnQkFnRUFlR0dLS1VyUVA0UFFPQzNETDhZMk5STi9kK0JmV25Sa0d3SVZLT1I3MXQrc0FiUE14N0gxNkF0aGFTWENqL1VvZzlJQUFBQitNSHdHQ1NxR1NJYjNEUUVIQnFCdk1HMENBUUF3YUFZSktvWklodmNOQVFjQk1CNEdDV0NHU0FGbEF3UUJMakFSQkF5KytPNXBFRkQ0TjVOSUNmZ0NBUkNBTzB5aTBZc1ZUNTEvcEVqS2dmTy9MSGp6NFcybDI5VEZIdE1POHdCTnY4MHZSQU1WY0ZSZVhPeU8xZ2NEcGh2MFJXOVhFUzE1a0JsMkRTelFBZ0FBRUFBL1J1NEtTS3ZuSk42WXpBWlJkZzR4T0tKaTBpNlh4UUFJSXNrc1I5cnRiT2FvbGNxaDI2WWl4MUkxSU40V3FzWC8vLy8vQUFBQUFRQUFBQUFBQUFBQUFBQUFBUUFBQkRmNE5CRE1PMjVuYlc2VjJzRlhUV25aQ0lrQ05RMVdPTi8yVHJNNFhicER0djJEb2xGQldrTFh6REZ3TUdnbzVETytNanErbDg4dko1QkR6akR1VU1ZbWp3dlV1TkI1NFEyWkJxaWNiS0FRZ2V5cVJYNkNlMTR1R1ZWQlhEeXh3UDRBWlFoMStGT0h4VVRhSExJeWZ4cTlaY0lIWlR5bmVCTFFJZjQ5U1V4c1JvRit2bFZyM1hzQVV6KzhyNkxzbHpJYmVXOXVZZ3hHV0d0SXZ2b2xYMlFMbE5wT3E5aGxvbXREcE9QWVJKR1F0TlNjQWQ4Y0VlaVl3QVp3Y2puOVN5Zk02blgwUmZUK0lRUVQ0Ni8zU0UzUWQ4U245am1BSEdSUmZnTEtVSVk2UUF1cC9sREVkR2N5cjFvSWViM1IwN3F2eGhjTmpsRDNEMngrbzgvSm1vOE1mdEF0N1kwcEV3SnRwekNUaVZNOWRLRzFlR0VPaVRIWE5LNktNQmwzL0k1WFV4Uy9SVnBPaHhVMTV5L2sxdmJERDNNT2YvczdQemZ1eUV5NWFSZFpYb2F2cXAyT3BtTUYyUm1sVzM4MStJOW5tc21XeENvWnVVMFZUK2FOdE01cXpWdGVUUWlPb1VvbE9WSDdxODNRRjlMeVZURnVqMWF5dVNsYUtjL01ZMHZ3RmlFaWJWSUxneXBoM2lBclhxOHRXMXZEUDRIaUdnOWNQU3oveWRoUVFzWnZlRHFnNllaT001b2NML3NTSXFtQzBXR3MyU0gza1B0cVhybXdCUXpYRTU2VHFsQ2U4VHVXQWlPWHVZVk1MenppUFVacWl2L1pyc1V0TjIzRDc5NTh5NDRCR0d5REZITkhTeVNYWERzdWpydUh5ejRYUGp3cjN4WDBQVitqUXBDc2RYcHFVZUVwbHFQODNjRGVIZGVYUWNqN2RKbEFYUnhmSVYwT1Q1NHpoQ2tyc2ZOV3NRQkdmOGd2c0g5NkFjSVV3YnRTTUFHSEEvR0cyL0UxWTh5ZmRhZlVUUzJWb29oS3J0d3FGemtUVHZVSFJnQUxmRUJ0NHFHQWhuK2JnNWZ5dnorSzlzN0YvUWE3Mmh2blZCRWdvcGxXRlYvUk51aWpSOWx4Zjc1d0ZMSWZlN214UXlxaHIzSXhHeS9iRzRyOEJzY1dMRXVCaEJjQjRaKzdDaC8reDNHMjdyRWhPWFFjZG1WUzJyaHJFRm8ySFNkMzBiSFZSNnM5Y2NPaVZnc1dqTk9yM244MHd1andpTHBBQjBuQU9uYlFGWUFoZFk3RzhsNzBLeHQxZVlDTTErMmpWVFNCcGVTRDdSR3VJL1ZyYmUzbTJFODRDUW1TS1hZaVBSbEhMK3RiNnZoRldmZlkzQTluejM2Vlp1dk9vbjZGbHdaTUpvcmRPNWFuc1Z5bHVRdHZrRzc5YkFSc3JublduZmZQOHFrN2hOcFR6Y0tLQmdhNEFrQVo3Z21vWWxxRWJuaVVFMXpZYTFIV0p6MzJiK1ZHTXRIcjhvbzM4UE5uSGt5elhuT0laVHFIUVluVTFrMEpaZVNVcklrc2dETFJVVXhUODFyYURnb2kreDE3N0dFWlpIU0NDVFkyM1p1WkdlOWlORkNTMnNlc2F5ZUNMR1YrbEpEQ0dSdExpSDNzV3hobVYvYzY2amhjMDgxRXlLZXhqZzhuK0thMS9ad29PdkhDOVU0b0xabmpQRnhWM0lOd0tuV3NYZFg3SmNwT000Rkp3d3I4dWxiMEVqZXlFVXF1SG1ydEIxMSs4TXFRZEJQcC9JMVFmY01qYzlEcSsvems1RDV6U3VJQ1JTMmZYWGxsc2hKaHRveEpwNnd2TVFST01ZNWRoeFZFTU02eEFxaGFzWEpWZnJ5UG16Yy93N0dHZFNEZWJwbWVFcFFyYUd1by9ybzNZVHErM2JoYnY5VEZneFFBWnpCbEFqRUF4Zk9MaWdxVlk1TlUwSFJmSFFNbHdleUpaV2ZPYmNYZ3hvdnRXL3pSaUdXeHlvajdwekhUR0RzSlFFTmZGcS96QWpBNmhnbjc1VnVvRW5zMWQyTFQwN0FXODNPTzAvZU1LY1FZUjE2TForenlvY1hlVFUvNnNkb3dVdDZybDZuUXRERT0iLCJjaXBoZXJUZXh0IjoiQVFJQkFIaGhpaWxLMEQrRDBEZ3R3eS9HTmpVVGYzZmdYMXAwWkJzQ0ZTamtlOWJmckFISEpwKy84VEJTa242RWJCcEZlazU5QUFBQW9qQ0Jud1lKS29aSWh2Y05BUWNHb0lHUk1JR09BZ0VBTUlHSUJna3Foa2lHOXcwQkJ3RXdIZ1lKWUlaSUFXVURCQUV1TUJFRURGNmlPVGRVeEVjOUh1cUg2Z0lCRUlCYjdreFdsbHNUdFgwenlKZHo3akUwWmpYS2thTndFaTFvYXc2RGpHRjk3Nk9VK25FN0dhRlVQSEVZT1YzL09uamdmY09HQmRyWXgzNnlMTm9ESVdPUHp5K1ppem96S2ZXeU1YS2hDUHA4Zk8zcDUvWDJ1b2tVVTBjZXRnPT0iLCJzdWIiOiJhcm46YXdzOnNhZ2VtYWtlcjphcC1ub3J0aGVhc3QtMjoxODU1Njc0MjY4Nzg6bWxmbG93LXRyYWNraW5nLXNlcnZlci9tbGZsb3ctZC13a3J6ZGRsdmF0Z2ktMjAtMTEtNTEtMTkiLCJpYXQiOjE3Mjk0Mjc5MDQsImV4cCI6MTcyOTQyNzk2NH0.sxXAPIPxg6jV1qAHirNXKWksfVA24WyOEecDnliqmxk\");"
      ],
      "text/plain": [
       "<IPython.core.display.Javascript object>"
      ]
     },
     "metadata": {},
     "output_type": "display_data"
    }
   ],
   "source": [
    "from IPython.display import Javascript\n",
    "\n",
    "# first open the MLflow UI - you can close a new opened window\n",
    "display(Javascript('window.open(\"{}\");'.format(presigned_url)))"
   ]
  },
  {
   "cell_type": "markdown",
   "id": "70c9fd0f-572e-4cb9-b071-bc07c9e219d8",
   "metadata": {},
   "source": [
    "### Checking the results"
   ]
  },
  {
   "cell_type": "code",
   "execution_count": 18,
   "id": "bb3a8c1c-ee94-44d4-9812-0fd6c93b1bad",
   "metadata": {},
   "outputs": [
    {
     "name": "stdout",
     "output_type": "stream",
     "text": [
      "   0   1   2    3   4   ...  55  56  57  58  59\n",
      "0   0  57   1  999   1  ...   0   0   1   0   0\n",
      "1   0  55   2  999   0  ...   0   0   0   1   0\n",
      "2   0  33   1  999   1  ...   0   0   1   0   0\n",
      "3   0  36   4  999   0  ...   0   0   0   1   0\n",
      "4   0  27   2  999   0  ...   0   0   0   1   0\n",
      "5   0  58   1  999   0  ...   0   0   0   1   0\n",
      "6   0  48   1  999   0  ...   0   1   0   1   0\n",
      "7   0  51   7  999   0  ...   0   0   0   1   0\n",
      "8   0  24   4  999   0  ...   0   1   0   1   0\n",
      "9   0  36   4  999   0  ...   0   0   0   1   0\n",
      "\n",
      "[10 rows x 60 columns]\n",
      "       0   1   2    3   4   ...  55  56  57  58  59\n",
      "28821   0  31   3  999   0  ...   0   0   0   1   0\n",
      "28822   0  45   5  999   0  ...   0   0   0   1   0\n",
      "28823   0  27   1  999   0  ...   0   0   0   1   0\n",
      "28824   1  32   1    6   1  ...   0   1   0   0   1\n",
      "28825   0  54   1  999   0  ...   0   0   0   1   0\n",
      "28826   0  23   1  999   0  ...   0   1   0   1   0\n",
      "28827   0  43   5  999   0  ...   1   0   0   1   0\n",
      "28828   0  43   2  999   0  ...   0   0   0   1   0\n",
      "28829   0  41   1  999   0  ...   1   0   0   1   0\n",
      "28830   0  27   2  999   0  ...   0   0   0   1   0\n",
      "\n",
      "[10 rows x 60 columns]\n"
     ]
    }
   ],
   "source": [
    "import pandas as pd\n",
    "import io\n",
    "\n",
    "train_data = sess.read_s3_file(\n",
    "    bucket=bucket,\n",
    "    key_prefix=f\"{prefix}/train/train.csv\"\n",
    ")\n",
    "\n",
    "df = pd.read_csv(io.StringIO(train_data), header=None)\n",
    "pd.set_option('display.max_columns', 10)\n",
    "print(df.head(10))\n",
    "print(df.tail(10))"
   ]
  }
 ],
 "metadata": {
  "kernelspec": {
   "display_name": "Python 3 (ipykernel)",
   "language": "python",
   "name": "python3"
  },
  "language_info": {
   "codemirror_mode": {
    "name": "ipython",
    "version": 3
   },
   "file_extension": ".py",
   "mimetype": "text/x-python",
   "name": "python",
   "nbconvert_exporter": "python",
   "pygments_lexer": "ipython3",
   "version": "3.11.9"
  }
 },
 "nbformat": 4,
 "nbformat_minor": 5
}
